{
 "cells": [
  {
   "cell_type": "markdown",
   "source": [
    "# Introdução"
   ],
   "metadata": {
    "collapsed": false
   },
   "id": "29953acf1d14dac3"
  },
  {
   "cell_type": "markdown",
   "source": [
    "## O que é Python?\n",
    "\n",
    "Python é uma linguagem de programação popular. Foi criado por Guido van Rossum e lançado em 1991.\n",
    "\n",
    "É usado para:\n",
    "- desenvolvimento web (lado do servidor),\n",
    "- desenvolvimento de software,\n",
    "- matemática,\n",
    "- ciência de dados\n",
    "- script do sistema."
   ],
   "metadata": {
    "collapsed": false
   },
   "id": "4579bbeac8ba7e4c"
  },
  {
   "cell_type": "markdown",
   "source": [
    "## Por que Python?\n",
    "\n",
    "Python é executado em um **sistema interpretador** (um intérprete é um programa que executa diretamente as instruções em uma linguagem de alto nível, sem convertê-las em código de máquina).\n",
    "\n",
    "Python é **multiparadigma** e pode ser tratado de forma procedural, orientada a objetos ou funcional."
   ],
   "metadata": {
    "collapsed": false
   },
   "id": "d9c40309adb39ee4"
  }
 ],
 "metadata": {
  "kernelspec": {
   "display_name": "Python 3",
   "language": "python",
   "name": "python3"
  },
  "language_info": {
   "codemirror_mode": {
    "name": "ipython",
    "version": 2
   },
   "file_extension": ".py",
   "mimetype": "text/x-python",
   "name": "python",
   "nbconvert_exporter": "python",
   "pygments_lexer": "ipython2",
   "version": "2.7.6"
  }
 },
 "nbformat": 4,
 "nbformat_minor": 5
}
