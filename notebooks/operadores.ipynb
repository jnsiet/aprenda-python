{
 "cells": [
  {
   "cell_type": "markdown",
   "source": [
    "# Operadores\n",
    "\n",
    "Operadores são usados para realizar operações em variáveis e valores.\n",
    "\n",
    "Python divide os operadores nos seguintes grupos:\n",
    "\n",
    "- Operadores aritméticos\n",
    "- Operadores de atribuição\n",
    "- Operadores de comparação\n",
    "- Operadores lógicos\n",
    "- Operadores de identidade \n",
    "- Operadores de adesão (membership)\n",
    "- Operadores bit a bit (bitwise)"
   ],
   "metadata": {
    "collapsed": false
   },
   "id": "1ff3cabea74655e4"
  },
  {
   "cell_type": "markdown",
   "source": [
    "## Operadores Aritméticos\n",
    "\n",
    "Operadores aritméticos são usados com valores numéricos para realizar operações matemáticas comuns.\n",
    "\n",
    "**Exemplos:**"
   ],
   "metadata": {
    "collapsed": false
   },
   "id": "29ece29fbb5316f5"
  },
  {
   "cell_type": "code",
   "outputs": [
    {
     "name": "stdout",
     "output_type": "stream",
     "text": [
      "8\n",
      "2\n",
      "15\n",
      "4.0\n",
      "1\n",
      "32\n",
      "7\n"
     ]
    }
   ],
   "source": [
    "x = 5\n",
    "y = 3\n",
    "print(x + y)    # adição\n",
    "\n",
    "x = 5\n",
    "y = 3\n",
    "print(x - y)    # subtração\n",
    "\n",
    "x = 5\n",
    "y = 3\n",
    "print(x * y)    # multiplicação\n",
    "\n",
    "x = 12\n",
    "y = 3\n",
    "print(x / y)    # divisão\n",
    "\n",
    "x = 5\n",
    "y = 2\n",
    "print(x % y)    # módulo ou resto\n",
    "\n",
    "x = 2\n",
    "y = 5\n",
    "print(x ** y)   # exponenciação\n",
    "\n",
    "x = 15\n",
    "y = 2\n",
    "print(x // y)   # divisão de piso"
   ],
   "metadata": {
    "collapsed": false,
    "ExecuteTime": {
     "end_time": "2024-01-02T00:14:25.895059100Z",
     "start_time": "2024-01-02T00:14:25.836813800Z"
    }
   },
   "id": "44388b57d9b3c0a",
   "execution_count": 26
  },
  {
   "cell_type": "markdown",
   "source": [
    "**NOTA:** A divisão de piso (`//`) realiza uma divisão normal, mas retorna a parte inteira do resultado, descartando qualquer parte fracionária."
   ],
   "metadata": {
    "collapsed": false
   },
   "id": "e8a30ddc7adc307e"
  },
  {
   "cell_type": "markdown",
   "source": [
    "## Operadores de Atribuição\n",
    "\n",
    "Operadores de atribuição são usados para atribuir valores a variáveis.\n",
    "\n",
    "| Operador | Exemplo |  Igual a   |\n",
    "|:--------:|:-------:|:----------:|\n",
    "|    =     |  x = 3  |   x = 3    |\n",
    "|    +=    | x += 3  | x = x + 3  |\n",
    "|    -=    | x -= 3  | x = x - 3  |\n",
    "|    *=    | x *= 3  | x = x * 3  |\n",
    "|    /=    | x /= 3  | x = x / 3  |\n",
    "|    %=    | x %= 3  | x = x % 3  |\n",
    "|   //=    | x //= 3 | x = x // 3 |\n",
    "|   **=    | x **= 3 | x = x ** 3 |\n",
    "|    &=    | x &= 3  | x = x & 3  |\n",
    "|   \\|=    | x \\|= 3 | x = x \\| 3 |\n",
    "|    ^=    | x ^= 3  | x = x ^ 3  |\n",
    "|   >>=    | x >>= 3 | x = x >> 3 |\n",
    "|   <<=    | x <<= 3 | x = x << 3 |\n",
    "\n",
    "\n"
   ],
   "metadata": {
    "collapsed": false
   },
   "id": "82bc00421218ebde"
  },
  {
   "cell_type": "markdown",
   "source": [
    "## Operadores de Comparação\n",
    "\n",
    "Operadores de comparação são usados para comparar dois valores.\n",
    "\n",
    "**Exemplos:**"
   ],
   "metadata": {
    "collapsed": false
   },
   "id": "f5d4f679294b2a10"
  },
  {
   "cell_type": "code",
   "outputs": [
    {
     "name": "stdout",
     "output_type": "stream",
     "text": [
      "False\n",
      "True\n",
      "True\n",
      "False\n",
      "True\n",
      "False\n"
     ]
    }
   ],
   "source": [
    "x = 5\n",
    "y = 3\n",
    "print(x == y)   # igual\n",
    "\n",
    "x = 5\n",
    "y = 3\n",
    "print(x != y)   # diferente\n",
    "\n",
    "x = 5\n",
    "y = 3\n",
    "print(x > y)    # maior que\n",
    "\n",
    "x = 5\n",
    "y = 3\n",
    "print(x < y)    # menor que\n",
    "\n",
    "x = 5\n",
    "y = 3\n",
    "print(x >= y)   # maior que ou igual a\n",
    "\n",
    "x = 5\n",
    "y = 3\n",
    "print(x <= y)   # menor que ou igual a"
   ],
   "metadata": {
    "collapsed": false,
    "ExecuteTime": {
     "end_time": "2024-01-02T00:14:25.938059800Z",
     "start_time": "2024-01-02T00:14:25.909059900Z"
    }
   },
   "id": "ce286d160bea09c3",
   "execution_count": 27
  },
  {
   "cell_type": "markdown",
   "source": [
    "## Operadores Lógicos\n",
    "\n",
    "Operadores lógicos são usados para combinar instruções condicionais.\n",
    "\n",
    "**Exemplos:**"
   ],
   "metadata": {
    "collapsed": false
   },
   "id": "a1faafb9ceb7f5dc"
  },
  {
   "cell_type": "code",
   "outputs": [
    {
     "name": "stdout",
     "output_type": "stream",
     "text": [
      "True\n",
      "True\n",
      "False\n"
     ]
    }
   ],
   "source": [
    "x = 5\n",
    "print(x > 3 and x < 10)     # and retorna True se ambas as afirmações forem verdadeiras\n",
    "\n",
    "x = 5\n",
    "print(x > 3 or x < 4)       # or retorna True se uma das afirmações for verdadeira\n",
    "\n",
    "x = 5\n",
    "print(not(x > 3 and x < 10)) # not inverte o resultado, retorna False se o resultado for verdadeiro"
   ],
   "metadata": {
    "collapsed": false,
    "ExecuteTime": {
     "end_time": "2024-01-02T00:14:25.989064200Z",
     "start_time": "2024-01-02T00:14:25.950060400Z"
    }
   },
   "id": "24008a2acaa3886b",
   "execution_count": 28
  },
  {
   "cell_type": "markdown",
   "source": [
    "## Operadores de Identidade\n",
    "\n",
    "Os operadores de identidade são usados para comparar os objetos, não se forem iguais, mas se forem realmente o mesmo objeto, com a mesma localização de memória.\n",
    "\n",
    "**Exemplos:**"
   ],
   "metadata": {
    "collapsed": false
   },
   "id": "c46e978328c54972"
  },
  {
   "cell_type": "code",
   "outputs": [
    {
     "name": "stdout",
     "output_type": "stream",
     "text": [
      "True\n",
      "False\n",
      "True\n",
      "False\n",
      "True\n",
      "False\n"
     ]
    }
   ],
   "source": [
    "x = [\"apple\", \"banana\"]\n",
    "y = [\"apple\", \"banana\"]\n",
    "z = x\n",
    "\n",
    "print(x is z)       # is retorna True se ambas as variáveis forem o mesmo objeto\n",
    "\n",
    "print(x is y)\n",
    "\n",
    "# == compara os valores, já o is compara se os objetos referenciam o mesmo endereço de memória\n",
    "print(x == y)\n",
    "\n",
    "# --------------------\n",
    "\n",
    "print(x is not z)   # is not retorna True se ambas as variáveis não forem o mesmo objeto\n",
    "\n",
    "print(x is not y)\n",
    "\n",
    "# != compara os valores, já o is not compara se os objetos referenciam o mesmo endereço de memória\n",
    "print(x != y)"
   ],
   "metadata": {
    "collapsed": false,
    "ExecuteTime": {
     "end_time": "2024-01-02T00:14:26.075061100Z",
     "start_time": "2024-01-02T00:14:26.005062600Z"
    }
   },
   "id": "6c63029a093e6fc1",
   "execution_count": 29
  },
  {
   "cell_type": "markdown",
   "source": [
    "## Operadores de Associação (Membership)\n",
    "\n",
    "Operadores de associação são usados para testar se uma sequência é apresentada em um objeto.\n",
    "\n",
    "**Exemplos:**"
   ],
   "metadata": {
    "collapsed": false
   },
   "id": "52bc7f8d3d286b71"
  },
  {
   "cell_type": "code",
   "outputs": [
    {
     "name": "stdout",
     "output_type": "stream",
     "text": [
      "True\n",
      "True\n"
     ]
    }
   ],
   "source": [
    "x = [\"apple\", \"banana\"]\n",
    "\n",
    "# in retorna True se uma sequência com o valor especificado estiver presente no objeto\n",
    "print(\"banana\" in x)\n",
    "\n",
    "# not in retorna True se uma sequência com o valor especificado não estiver presente no objeto\n",
    "print(\"pineapple\" not in x) #"
   ],
   "metadata": {
    "collapsed": false,
    "ExecuteTime": {
     "end_time": "2024-01-02T00:14:26.140338Z",
     "start_time": "2024-01-02T00:14:26.070062Z"
    }
   },
   "id": "7e5cd0c9b86acb3d",
   "execution_count": 30
  }
 ],
 "metadata": {
  "kernelspec": {
   "display_name": "Python 3",
   "language": "python",
   "name": "python3"
  },
  "language_info": {
   "codemirror_mode": {
    "name": "ipython",
    "version": 2
   },
   "file_extension": ".py",
   "mimetype": "text/x-python",
   "name": "python",
   "nbconvert_exporter": "python",
   "pygments_lexer": "ipython2",
   "version": "2.7.6"
  }
 },
 "nbformat": 4,
 "nbformat_minor": 5
}
