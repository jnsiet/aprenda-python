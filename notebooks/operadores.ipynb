{
 "cells": [
  {
   "cell_type": "markdown",
   "source": [
    "# Operadores\n",
    "\n",
    "Operadores são usados para realizar operações em variáveis e valores.\n",
    "\n",
    "Python divide os operadores nos seguintes grupos:\n",
    "\n",
    "- Operadores aritméticos\n",
    "- Operadores de atribuição\n",
    "- Operadores de comparação\n",
    "- Operadores lógicos\n",
    "- Operadores de identidade \n",
    "- Operadores de associação (membership)\n",
    "- Operadores bit a bit (bitwise)"
   ],
   "metadata": {
    "collapsed": false
   },
   "id": "1ff3cabea74655e4"
  },
  {
   "cell_type": "markdown",
   "source": [
    "## Operadores Aritméticos\n",
    "\n",
    "Operadores aritméticos são usados com valores numéricos para realizar operações matemáticas comuns.\n",
    "\n",
    "**Exemplos:**"
   ],
   "metadata": {
    "collapsed": false
   },
   "id": "29ece29fbb5316f5"
  },
  {
   "cell_type": "code",
   "outputs": [
    {
     "name": "stdout",
     "output_type": "stream",
     "text": [
      "8\n",
      "2\n",
      "15\n",
      "4.0\n",
      "1\n",
      "32\n",
      "7\n"
     ]
    }
   ],
   "source": [
    "x = 5\n",
    "y = 3\n",
    "print(x + y)    # adição\n",
    "\n",
    "x = 5\n",
    "y = 3\n",
    "print(x - y)    # subtração\n",
    "\n",
    "x = 5\n",
    "y = 3\n",
    "print(x * y)    # multiplicação\n",
    "\n",
    "x = 12\n",
    "y = 3\n",
    "print(x / y)    # divisão\n",
    "\n",
    "x = 5\n",
    "y = 2\n",
    "print(x % y)    # módulo ou resto\n",
    "\n",
    "x = 2\n",
    "y = 5\n",
    "print(x ** y)   # exponenciação\n",
    "\n",
    "x = 15\n",
    "y = 2\n",
    "print(x // y)   # divisão de piso"
   ],
   "metadata": {
    "collapsed": false,
    "ExecuteTime": {
     "end_time": "2024-01-02T12:58:44.556037800Z",
     "start_time": "2024-01-02T12:58:44.530361800Z"
    }
   },
   "id": "44388b57d9b3c0a",
   "execution_count": 49
  },
  {
   "cell_type": "markdown",
   "source": [
    "**NOTA:** A divisão de piso (`//`) realiza uma divisão normal, mas retorna a parte inteira do resultado, descartando qualquer parte fracionária."
   ],
   "metadata": {
    "collapsed": false
   },
   "id": "e8a30ddc7adc307e"
  },
  {
   "cell_type": "markdown",
   "source": [
    "## Operadores de Atribuição\n",
    "\n",
    "Operadores de atribuição são usados para atribuir valores a variáveis.\n",
    "\n",
    "**Exemplos:**"
   ],
   "metadata": {
    "collapsed": false
   },
   "id": "82bc00421218ebde"
  },
  {
   "cell_type": "code",
   "outputs": [],
   "source": [
    "x = 5\n",
    "\n",
    "# Os operadores abaixo são utilizados para simplificar operações de incremento ou acumulação\n",
    "\n",
    "x += 3      # equivalente: x = x + 3\n",
    "\n",
    "x = 5\n",
    "x -= 3      # equivalente: x = x - 3\n",
    "\n",
    "x = 5\n",
    "x *= 3      # equivalente: x = x * 3\n",
    "\n",
    "x = 5\n",
    "x /= 3      # equivalente: x = x / 3\n",
    "\n",
    "x = 5\n",
    "x %= 3      # equivalente: x = x % 3\n",
    "\n",
    "x = 5\n",
    "x //= 3     # equivalente: x = x // 3\n",
    "\n",
    "x = 5\n",
    "x **= 3     # equivalente: x = x ** 3\n",
    "\n",
    "x = 5\n",
    "x &= 3      # equivalente: x = x & 3\n",
    "\n",
    "x = 5\n",
    "x |= 3      # equivalente: x = x | 3\n",
    "\n",
    "x = 5\n",
    "x ^= 3      # equivalente: x = x ^ 3\n",
    "\n",
    "x = 5\n",
    "x >>= 3     # equivalente: x = x >> 3\n",
    "\n",
    "x = 5\n",
    "x <<= 3     # equivalente: x = x << 3"
   ],
   "metadata": {
    "collapsed": false,
    "ExecuteTime": {
     "end_time": "2024-01-02T12:58:44.611046600Z",
     "start_time": "2024-01-02T12:58:44.561041400Z"
    }
   },
   "id": "a7057eeb3783e2e9",
   "execution_count": 50
  },
  {
   "cell_type": "markdown",
   "source": [
    "## Operadores de Comparação\n",
    "\n",
    "Operadores de comparação são usados para comparar dois valores.\n",
    "\n",
    "**Exemplos:**"
   ],
   "metadata": {
    "collapsed": false
   },
   "id": "f5d4f679294b2a10"
  },
  {
   "cell_type": "code",
   "outputs": [
    {
     "name": "stdout",
     "output_type": "stream",
     "text": [
      "False\n",
      "True\n",
      "True\n",
      "False\n",
      "True\n",
      "False\n"
     ]
    }
   ],
   "source": [
    "x = 5\n",
    "y = 3\n",
    "print(x == y)   # igual\n",
    "\n",
    "x = 5\n",
    "y = 3\n",
    "print(x != y)   # diferente\n",
    "\n",
    "x = 5\n",
    "y = 3\n",
    "print(x > y)    # maior que\n",
    "\n",
    "x = 5\n",
    "y = 3\n",
    "print(x < y)    # menor que\n",
    "\n",
    "x = 5\n",
    "y = 3\n",
    "print(x >= y)   # maior que ou igual a\n",
    "\n",
    "x = 5\n",
    "y = 3\n",
    "print(x <= y)   # menor que ou igual a"
   ],
   "metadata": {
    "collapsed": false,
    "ExecuteTime": {
     "end_time": "2024-01-02T12:58:44.653044500Z",
     "start_time": "2024-01-02T12:58:44.621040100Z"
    }
   },
   "id": "ce286d160bea09c3",
   "execution_count": 51
  },
  {
   "cell_type": "markdown",
   "source": [
    "## Operadores Lógicos\n",
    "\n",
    "Operadores lógicos são usados para combinar instruções condicionais.\n",
    "\n",
    "**Exemplos:**"
   ],
   "metadata": {
    "collapsed": false
   },
   "id": "a1faafb9ceb7f5dc"
  },
  {
   "cell_type": "code",
   "outputs": [
    {
     "name": "stdout",
     "output_type": "stream",
     "text": [
      "True\n",
      "True\n",
      "False\n"
     ]
    }
   ],
   "source": [
    "x = 5\n",
    "print(x > 3 and x < 10)     # and retorna True se ambas as afirmações forem verdadeiras\n",
    "\n",
    "x = 5\n",
    "print(x > 3 or x < 4)       # or retorna True se uma das afirmações for verdadeira\n",
    "\n",
    "x = 5\n",
    "print(not(x > 3 and x < 10)) # not inverte o resultado, retorna False se o resultado for verdadeiro"
   ],
   "metadata": {
    "collapsed": false,
    "ExecuteTime": {
     "end_time": "2024-01-02T12:58:44.705042300Z",
     "start_time": "2024-01-02T12:58:44.655040800Z"
    }
   },
   "id": "24008a2acaa3886b",
   "execution_count": 52
  },
  {
   "cell_type": "markdown",
   "source": [
    "## Operadores de Identidade\n",
    "\n",
    "Os operadores de identidade são usados para comparar os objetos, não se forem iguais, mas se forem realmente o mesmo objeto, com a mesma localização de memória.\n",
    "\n",
    "**Exemplos:**"
   ],
   "metadata": {
    "collapsed": false
   },
   "id": "c46e978328c54972"
  },
  {
   "cell_type": "code",
   "outputs": [
    {
     "name": "stdout",
     "output_type": "stream",
     "text": [
      "True\n",
      "False\n",
      "True\n",
      "False\n",
      "True\n",
      "False\n"
     ]
    }
   ],
   "source": [
    "x = [\"apple\", \"banana\"]\n",
    "y = [\"apple\", \"banana\"]\n",
    "z = x\n",
    "\n",
    "print(x is z)       # is retorna True se ambas as variáveis forem o mesmo objeto\n",
    "\n",
    "print(x is y)\n",
    "\n",
    "# == compara os valores, já o is compara se os objetos referenciam o mesmo endereço de memória\n",
    "print(x == y)\n",
    "\n",
    "# --------------------\n",
    "\n",
    "print(x is not z)   # is not retorna True se ambas as variáveis não forem o mesmo objeto\n",
    "\n",
    "print(x is not y)\n",
    "\n",
    "# != compara os valores, já o is not compara se os objetos referenciam o mesmo endereço de memória\n",
    "print(x != y)"
   ],
   "metadata": {
    "collapsed": false,
    "ExecuteTime": {
     "end_time": "2024-01-02T12:58:44.756044100Z",
     "start_time": "2024-01-02T12:58:44.679387300Z"
    }
   },
   "id": "6c63029a093e6fc1",
   "execution_count": 53
  },
  {
   "cell_type": "markdown",
   "source": [
    "## Operadores de Associação (Membership)\n",
    "\n",
    "Operadores de associação são usados para testar se uma sequência é apresentada em um objeto.\n",
    "\n",
    "**Exemplos:**"
   ],
   "metadata": {
    "collapsed": false
   },
   "id": "52bc7f8d3d286b71"
  },
  {
   "cell_type": "code",
   "outputs": [
    {
     "name": "stdout",
     "output_type": "stream",
     "text": [
      "True\n",
      "True\n"
     ]
    }
   ],
   "source": [
    "x = [\"apple\", \"banana\"]\n",
    "\n",
    "# in retorna True se uma sequência com o valor especificado estiver presente no objeto\n",
    "print(\"banana\" in x)\n",
    "\n",
    "# not in retorna True se uma sequência com o valor especificado não estiver presente no objeto\n",
    "print(\"pineapple\" not in x) #"
   ],
   "metadata": {
    "collapsed": false,
    "ExecuteTime": {
     "end_time": "2024-01-02T12:58:44.816801900Z",
     "start_time": "2024-01-02T12:58:44.722059100Z"
    }
   },
   "id": "7e5cd0c9b86acb3d",
   "execution_count": 54
  },
  {
   "cell_type": "markdown",
   "source": [
    "## Operadores bit-a-bit (Bitwise)\n",
    "\n",
    "Operações bitwise são operações que manipulam bits individuais de números inteiros.\n",
    "\n",
    "**Exemplos:**"
   ],
   "metadata": {
    "collapsed": false
   },
   "id": "f548d76844d09fe5"
  },
  {
   "cell_type": "code",
   "outputs": [
    {
     "name": "stdout",
     "output_type": "stream",
     "text": [
      "6 & 3 = 2\n",
      "6 | 3 = 7\n",
      "6 ^ 3 = 5\n",
      "~3 = -4\n",
      "3 << 2 = 12\n",
      "8 >> 2 = 2\n"
     ]
    }
   ],
   "source": [
    "\"\"\"\n",
    "AND (&):\n",
    "    Realiza uma operação lógica AND bit a bit.\n",
    "    Se ambos os bits são 1, o resultado é 1; caso contrário, o resultado é 0.\n",
    "\"\"\"\n",
    "print(f\"6 & 3 = { 6 & 3 }\")\n",
    "\n",
    "\n",
    "\"\"\"\n",
    "OR (|):\n",
    "    Realiza uma operação lógica OR bit a bit.\n",
    "    Se pelo menos um dos bits é 1, o resultado é 1; se ambos os bits são 0, o resultado é 0.\n",
    "\"\"\"\n",
    "print(f\"6 | 3 = { 6 | 3 }\")\n",
    "\n",
    "\n",
    "\"\"\"\n",
    "XOR (^):\n",
    "    Realiza uma operação lógica XOR bit a bit.\n",
    "    O resultado é 1 se os bits forem diferentes; caso contrário, é 0.\n",
    "\"\"\"\n",
    "print(f\"6 ^ 3 = { 6 ^ 3 }\")\n",
    "\n",
    "\n",
    "\"\"\"\n",
    "NOT (~):\n",
    "    Inverte todos os bits de um número. Transforma 0 em 1 e 1 em 0.\n",
    "\"\"\"\n",
    "print(f\"~3 = { ~3 }\")\n",
    "\n",
    "\n",
    "\"\"\"\n",
    "Deslocamento à Esquerda (<<):\n",
    "    Desloca os bits para a esquerda, preenchendo com zeros à direita.\n",
    "    x << y desloca os bits de x para a esquerda por y posições.\n",
    "    \n",
    "    Se você mover cada bit 2 vezes para a esquerda, 3 se tornará 12:\n",
    "        3 = 000011 \n",
    "    torna-se,\n",
    "       12 = 001100\n",
    "\"\"\"\n",
    "print(f\"3 << 2 = { 3 << 2 }\")\n",
    "\n",
    "\n",
    "\"\"\"\n",
    "Deslocamento à Direita (>>):\n",
    "    Desloca os bits para a direita, preenchendo com zeros à esquerda.\n",
    "    x >> y desloca os bits de x para a direita por y posições.\n",
    "    \n",
    "    Se você mover cada bit 2 vezes para a direita, 8 se tornará 2:\n",
    "        8 = 1000\n",
    "    torna-se\n",
    "        2 = 0010\n",
    "\"\"\"\n",
    "print(f\"8 >> 2 = { 8 >> 2 }\")"
   ],
   "metadata": {
    "collapsed": false,
    "ExecuteTime": {
     "end_time": "2024-01-02T12:58:44.818804700Z",
     "start_time": "2024-01-02T12:58:44.756044100Z"
    }
   },
   "id": "1c5d5c1c2c71b56c",
   "execution_count": 55
  },
  {
   "cell_type": "markdown",
   "source": [
    "Essas operações são frequentemente usadas em programação de baixo nível para otimizações e manipulação direta de dados em nível de bits.\n",
    "\n",
    "Links para melhor entender operações bit-a-bit:\n",
    "- <https://www.youtube.com/watch?v=pG55wmEJiW4&ab_channel=Programa%C3%A7%C3%A3oDescomplicada>\n",
    "- <https://realpython.com/python-bitwise-operators/>"
   ],
   "metadata": {
    "collapsed": false
   },
   "id": "84c7120891870849"
  },
  {
   "cell_type": "markdown",
   "source": [
    "## Precedência dos Operadores\n",
    "\n",
    "A precedência do operador descreve a ordem em que as operações são executadas, a precedência de operadores em Python segue as regras matemáticas padrão. Se dois operadores tiverem a mesma precedência, a expressão será avaliada da esquerda para a direita.\n",
    "\n",
    "A ordem de precedência está descrita na tabela abaixo, começando com a precedência mais alta no topo:\n",
    "\n",
    "|                   Operador                   |\n",
    "|:--------------------------------------------:|\n",
    "|                     ( )                      |\n",
    "|                      **                      |\n",
    "|                  +x, -x, ~x                  |\n",
    "|                 *, /, //, %                  |\n",
    "|                     +, -                     |\n",
    "|                    <<, >>                    |\n",
    "|                      &                       |\n",
    "|                      ^                       |\n",
    "|                      \\|                      |\n",
    "| ==, !=, >, >=, <, <=, is, is not, in, not in |\n",
    "|                     not                      |\n",
    "|                     and                      |\n",
    "|                      or                      |"
   ],
   "metadata": {
    "collapsed": false
   },
   "id": "3eb9919020185182"
  },
  {
   "cell_type": "code",
   "outputs": [
    {
     "name": "stdout",
     "output_type": "stream",
     "text": [
      "57\n",
      "5\n"
     ]
    }
   ],
   "source": [
    "print((6 + 3) * 6 + 3)\n",
    "\n",
    "print(5 + 4 - 7 + 3)"
   ],
   "metadata": {
    "collapsed": false,
    "ExecuteTime": {
     "end_time": "2024-01-02T12:58:44.819835Z",
     "start_time": "2024-01-02T12:58:44.783348200Z"
    }
   },
   "id": "c07e11a7ecaf12a",
   "execution_count": 56
  }
 ],
 "metadata": {
  "kernelspec": {
   "display_name": "Python 3",
   "language": "python",
   "name": "python3"
  },
  "language_info": {
   "codemirror_mode": {
    "name": "ipython",
    "version": 2
   },
   "file_extension": ".py",
   "mimetype": "text/x-python",
   "name": "python",
   "nbconvert_exporter": "python",
   "pygments_lexer": "ipython2",
   "version": "2.7.6"
  }
 },
 "nbformat": 4,
 "nbformat_minor": 5
}
