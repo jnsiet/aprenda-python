{
 "cells": [
  {
   "cell_type": "markdown",
   "source": [
    "# Funções\n",
    "\n",
    "Uma função é um bloco de código que só é executado quando é chamado. Você pode passar dados, conhecidos como argumentos, para uma função. Uma função pode retornar dados como resultado."
   ],
   "metadata": {
    "collapsed": false
   },
   "id": "d9fd13acee949b8"
  },
  {
   "cell_type": "code",
   "execution_count": 36,
   "id": "initial_id",
   "metadata": {
    "collapsed": true,
    "ExecuteTime": {
     "end_time": "2024-01-02T14:40:18.733084900Z",
     "start_time": "2024-01-02T14:40:18.672419400Z"
    }
   },
   "outputs": [
    {
     "name": "stdout",
     "output_type": "stream",
     "text": [
      "Hello from a function\n"
     ]
    }
   ],
   "source": [
    "def my_function():      # a palavra-chave def cria uma função\n",
    "    print(\"Hello from a function\")\n",
    "\n",
    "my_function()           # chamando a função"
   ]
  },
  {
   "cell_type": "code",
   "outputs": [
    {
     "name": "stdout",
     "output_type": "stream",
     "text": [
      "15\n"
     ]
    }
   ],
   "source": [
    "def my_function(x):\n",
    "    return 5 * x        # para permitir que uma função retorne um valor, use a instrução return\n",
    "\n",
    "print(my_function(3))"
   ],
   "metadata": {
    "collapsed": false,
    "ExecuteTime": {
     "end_time": "2024-01-02T14:40:18.774079700Z",
     "start_time": "2024-01-02T14:40:18.738096900Z"
    }
   },
   "id": "44bdb28a88ada34",
   "execution_count": 37
  },
  {
   "cell_type": "markdown",
   "source": [
    "## Parâmetros e Argumentos\n",
    "\n",
    "Da perspectiva de uma função, um parâmetro é a variável listada entre parênteses na definição da função. Já argumento é o valor enviado à função quando ela é chamada.\n",
    "\n",
    "**NOTA:** Você pode enviar qualquer tipo de argumento de dados para uma função (string, número, lista, dicionário etc.), e ele será tratado como o mesmo tipo de dados dentro da função."
   ],
   "metadata": {
    "collapsed": false
   },
   "id": "2b834a21deeebe79"
  },
  {
   "cell_type": "code",
   "outputs": [
    {
     "name": "stdout",
     "output_type": "stream",
     "text": [
      "John Paul\n"
     ]
    }
   ],
   "source": [
    "def my_function(fname, lname):  # parâmetros: fname, lname\n",
    "    print(fname + \" \" + lname)\n",
    "\n",
    "my_function(\"John\", \"Paul\")     # argumentos: John, Paul"
   ],
   "metadata": {
    "collapsed": false,
    "ExecuteTime": {
     "end_time": "2024-01-02T14:40:18.817519600Z",
     "start_time": "2024-01-02T14:40:18.782519800Z"
    }
   },
   "id": "9926fe6806ef0b57",
   "execution_count": 38
  },
  {
   "cell_type": "markdown",
   "source": [
    "## Argumentos Arbitrários, *args\n",
    "\n",
    "Se você não sabe quantos argumentos serão passados para sua função, adicione um `*` antes do nome do parâmetro na definição da função. Desta forma a função receberá uma tupla de argumentos."
   ],
   "metadata": {
    "collapsed": false
   },
   "id": "688c646148e00e4e"
  },
  {
   "cell_type": "code",
   "outputs": [
    {
     "name": "stdout",
     "output_type": "stream",
     "text": [
      "The youngest child is Linus\n",
      "('Emil', 'Tobias', 'Linus')\n"
     ]
    }
   ],
   "source": [
    "def my_function(*kids):\n",
    "    print(\"The youngest child is \" + kids[2])\n",
    "    print(kids)\n",
    "\n",
    "my_function(\"Emil\", \"Tobias\", \"Linus\")"
   ],
   "metadata": {
    "collapsed": false,
    "ExecuteTime": {
     "end_time": "2024-01-02T14:40:18.863866400Z",
     "start_time": "2024-01-02T14:40:18.827521800Z"
    }
   },
   "id": "1430dfd0d2905066",
   "execution_count": 39
  },
  {
   "cell_type": "markdown",
   "source": [
    "## Argumentos de palavras-chave, kwargs\n",
    "\n",
    "Você também pode enviar argumentos com a sintaxe `key = value`. Desta forma, a ordem dos argumentos não importa."
   ],
   "metadata": {
    "collapsed": false
   },
   "id": "4f401e831039f63"
  },
  {
   "cell_type": "code",
   "outputs": [
    {
     "name": "stdout",
     "output_type": "stream",
     "text": [
      "The youngest child is Linus\n"
     ]
    }
   ],
   "source": [
    "def my_function(child1, child2, child3):\n",
    "    print(\"The youngest child is \" + child3)\n",
    "\n",
    "my_function(child2 = \"Emil\", child1 = \"Tobias\", child3 = \"Linus\")"
   ],
   "metadata": {
    "collapsed": false,
    "ExecuteTime": {
     "end_time": "2024-01-02T14:40:18.958215800Z",
     "start_time": "2024-01-02T14:40:18.869866500Z"
    }
   },
   "id": "f0585a40b67843ab",
   "execution_count": 40
  },
  {
   "cell_type": "markdown",
   "source": [
    "## Argumentos de palavras-chave arbitrárias, **kwargs\n",
    "\n",
    "Se você não sabe quantos argumentos de palavras-chave serão passados para sua função, adicione dois asteriscos `**` antes do nome do parâmetro na definição da função. Desta forma a função receberá um dicionário de argumentos."
   ],
   "metadata": {
    "collapsed": false
   },
   "id": "ac93c65b5fa9187a"
  },
  {
   "cell_type": "code",
   "outputs": [
    {
     "name": "stdout",
     "output_type": "stream",
     "text": [
      "His last name is Paul\n",
      "{'fname': 'John', 'lname': 'Paul'}\n"
     ]
    }
   ],
   "source": [
    "def my_function(**kid):\n",
    "    print(\"His last name is \" + kid[\"lname\"])\n",
    "    print(kid)\n",
    "\n",
    "my_function(fname = \"John\", lname = \"Paul\")"
   ],
   "metadata": {
    "collapsed": false,
    "ExecuteTime": {
     "end_time": "2024-01-02T14:40:19.018174400Z",
     "start_time": "2024-01-02T14:40:18.918501900Z"
    }
   },
   "id": "76a1ace6422dfcc6",
   "execution_count": 41
  },
  {
   "cell_type": "markdown",
   "source": [
    "## Valor do parâmetro padrão"
   ],
   "metadata": {
    "collapsed": false
   },
   "id": "ba0277b298e6153b"
  },
  {
   "cell_type": "code",
   "outputs": [
    {
     "name": "stdout",
     "output_type": "stream",
     "text": [
      "I am from India\n",
      "I am from Brazil\n"
     ]
    }
   ],
   "source": [
    "def my_function(country = \"Brazil\"):\n",
    "    print(\"I am from \" + country)\n",
    "\n",
    "my_function(\"India\")\n",
    "my_function()           # se chamarmos a função sem argumento, ela usará o valor padrão"
   ],
   "metadata": {
    "collapsed": false,
    "ExecuteTime": {
     "end_time": "2024-01-02T14:40:19.036167100Z",
     "start_time": "2024-01-02T14:40:18.971497300Z"
    }
   },
   "id": "b372247fb90e337e",
   "execution_count": 42
  }
 ],
 "metadata": {
  "kernelspec": {
   "display_name": "Python 3",
   "language": "python",
   "name": "python3"
  },
  "language_info": {
   "codemirror_mode": {
    "name": "ipython",
    "version": 2
   },
   "file_extension": ".py",
   "mimetype": "text/x-python",
   "name": "python",
   "nbconvert_exporter": "python",
   "pygments_lexer": "ipython2",
   "version": "2.7.6"
  }
 },
 "nbformat": 4,
 "nbformat_minor": 5
}
