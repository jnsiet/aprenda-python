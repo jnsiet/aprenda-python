{
 "cells": [
  {
   "cell_type": "markdown",
   "source": [
    "# Booleanos\n",
    "\n",
    "Na programação, muitas vezes você precisa saber se uma expressão é verdadeira(`True`) ou falsa(`False`)."
   ],
   "metadata": {
    "collapsed": false
   },
   "id": "9c3c57364dd247ae"
  },
  {
   "cell_type": "code",
   "execution_count": 10,
   "id": "initial_id",
   "metadata": {
    "collapsed": true,
    "ExecuteTime": {
     "end_time": "2024-01-01T21:05:38.066324400Z",
     "start_time": "2024-01-01T21:05:38.031135700Z"
    }
   },
   "outputs": [
    {
     "name": "stdout",
     "output_type": "stream",
     "text": [
      "True\n",
      "False\n",
      "False\n",
      "b is not greater than a\n",
      "True\n",
      "True\n"
     ]
    }
   ],
   "source": [
    "print(10 > 9)\n",
    "print(10 == 9)\n",
    "print(10 < 9)\n",
    "\n",
    "a = 200\n",
    "b = 33\n",
    "\n",
    "if b > a:\n",
    "    print(\"b is greater than a\")\n",
    "else:\n",
    "    print(\"b is not greater than a\")\n",
    "\n",
    "print(bool(\"Hello\")) # The bool() function allows you to evaluate any value, and give you True or False\n",
    "\n",
    "def myFunction():    # You can create functions that returns a Boolean\n",
    "    return True\n",
    "\n",
    "print(myFunction())"
   ]
  },
  {
   "cell_type": "markdown",
   "source": [
    "## Valores Verdadeiros e Falsos\n",
    "\n",
    "**Valores True:**\n",
    "\n",
    "- Strings não vazias são consideradas verdadeiras.\n",
    "- Números não nulos são considerados verdadeiros.\n",
    "- Listas, tuplas, conjuntos e dicionários não vazios são considerados verdadeiros.\n",
    "\n",
    "**Valores False:**\n",
    "\n",
    "- Strings, listas, tuplas, conjuntos e dicionários vazios são considerados falsos.\n",
    "- O número 0 e o valor `None` também são considerados falsos.\n",
    "- O valor `False` é avaliado como falso."
   ],
   "metadata": {
    "collapsed": false
   },
   "id": "6e00dc5e73b2936b"
  },
  {
   "cell_type": "markdown",
   "source": [
    "## Função isinstance()\n",
    "\n",
    "Python também possui muitas funções integradas que retornam um valor booleano, como a função `isinstance()`, que pode ser usada para verificar se um objeto é uma instância de uma determinada classe."
   ],
   "metadata": {
    "collapsed": false
   },
   "id": "762ea13668c273a4"
  },
  {
   "cell_type": "code",
   "outputs": [
    {
     "name": "stdout",
     "output_type": "stream",
     "text": [
      "True\n"
     ]
    }
   ],
   "source": [
    "x = 200\n",
    "print(isinstance(x, int))"
   ],
   "metadata": {
    "collapsed": false,
    "ExecuteTime": {
     "end_time": "2024-01-01T21:05:38.069322100Z",
     "start_time": "2024-01-01T21:05:38.049328900Z"
    }
   },
   "id": "b97b475a18b8cbe5",
   "execution_count": 11
  }
 ],
 "metadata": {
  "kernelspec": {
   "display_name": "Python 3",
   "language": "python",
   "name": "python3"
  },
  "language_info": {
   "codemirror_mode": {
    "name": "ipython",
    "version": 2
   },
   "file_extension": ".py",
   "mimetype": "text/x-python",
   "name": "python",
   "nbconvert_exporter": "python",
   "pygments_lexer": "ipython2",
   "version": "2.7.6"
  }
 },
 "nbformat": 4,
 "nbformat_minor": 5
}
