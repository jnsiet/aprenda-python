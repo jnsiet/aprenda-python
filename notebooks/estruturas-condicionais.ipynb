{
 "cells": [
  {
   "cell_type": "markdown",
   "source": [
    "# Estruturas Condicionais\n",
    "\n",
    "## If\n",
    "\n",
    "A estrutura condicional `if` é utilizada para realizar a execução condicional de um bloco de código."
   ],
   "metadata": {
    "collapsed": false
   },
   "id": "1934a221201364be"
  },
  {
   "cell_type": "code",
   "execution_count": 13,
   "id": "initial_id",
   "metadata": {
    "collapsed": true,
    "ExecuteTime": {
     "end_time": "2024-01-02T01:51:48.141617700Z",
     "start_time": "2024-01-02T01:51:48.090415100Z"
    }
   },
   "outputs": [
    {
     "name": "stdout",
     "output_type": "stream",
     "text": [
      "b is greater than a\n"
     ]
    }
   ],
   "source": [
    "a = 33\n",
    "b = 200\n",
    "if b > a:\n",
    "    print(\"b is greater than a\")"
   ]
  },
  {
   "cell_type": "markdown",
   "source": [
    "**NOTA:** Python depende de identação (recuo) para definir o escopo no código."
   ],
   "metadata": {
    "collapsed": false
   },
   "id": "7bd3987c4efe8608"
  },
  {
   "cell_type": "markdown",
   "source": [
    "## Elif\n",
    "\n",
    "A palavra-chave `elif` é a maneira do Python dizer \"se as condições anteriores não eram verdadeiras, tente esta condição\"."
   ],
   "metadata": {
    "collapsed": false
   },
   "id": "7d81b80793db3f2e"
  },
  {
   "cell_type": "code",
   "outputs": [
    {
     "name": "stdout",
     "output_type": "stream",
     "text": [
      "a and b are equal\n"
     ]
    }
   ],
   "source": [
    "a = 33\n",
    "b = 33\n",
    "if b > a:\n",
    "    print(\"b is greater than a\")\n",
    "elif a == b:\n",
    "    print(\"a and b are equal\")"
   ],
   "metadata": {
    "collapsed": false,
    "ExecuteTime": {
     "end_time": "2024-01-02T01:51:48.185620300Z",
     "start_time": "2024-01-02T01:51:48.150626Z"
    }
   },
   "id": "69a7539caff9cc5c",
   "execution_count": 14
  },
  {
   "cell_type": "markdown",
   "source": [
    "## Else\n",
    "\n",
    "A instrução `else` é executada quando todas as condições anteriores não tiverem sido satisfeitas."
   ],
   "metadata": {
    "collapsed": false
   },
   "id": "73fb4277044e4536"
  },
  {
   "cell_type": "code",
   "outputs": [
    {
     "name": "stdout",
     "output_type": "stream",
     "text": [
      "a is greater than b\n"
     ]
    }
   ],
   "source": [
    "a = 200\n",
    "b = 33\n",
    "if b > a:\n",
    "    print(\"b is greater than a\")\n",
    "elif a == b:\n",
    "    print(\"a and b are equal\")\n",
    "else:\n",
    "    print(\"a is greater than b\")"
   ],
   "metadata": {
    "collapsed": false,
    "ExecuteTime": {
     "end_time": "2024-01-02T01:51:48.475165300Z",
     "start_time": "2024-01-02T01:51:48.202624700Z"
    }
   },
   "id": "d4f5d670aadd158c",
   "execution_count": 15
  },
  {
   "cell_type": "markdown",
   "source": [
    "## Operadores Ternários ou Expressões Condicionais\n",
    "\n",
    "Em Python, os operadores ternários são frequentemente utilizados para **atribuições de valor** com base em uma condição. \n",
    "\n",
    "A sintaxe básica do operador ternário em Python é: `<expressao1> if <condicao> else <expressao2>`. Primeiro, a `condicao` é avaliada, se for verdadeira, `expressao1` é avaliada e seu valor é retornado; caso contrário, `expressao2` é avaliada e seu valor retornado."
   ],
   "metadata": {
    "collapsed": false
   },
   "id": "5d8c34fac78fed79"
  },
  {
   "cell_type": "code",
   "outputs": [
    {
     "name": "stdout",
     "output_type": "stream",
     "text": [
      "even\n"
     ]
    }
   ],
   "source": [
    "x = 10\n",
    "print(\"even\" if x % 2 == 0 else \"odd\")"
   ],
   "metadata": {
    "collapsed": false,
    "ExecuteTime": {
     "end_time": "2024-01-02T01:51:48.581299800Z",
     "start_time": "2024-01-02T01:51:48.529444Z"
    }
   },
   "id": "d4684865be934b5c",
   "execution_count": 16
  },
  {
   "cell_type": "markdown",
   "source": [
    "## Instruções Aninhadas\n",
    "\n",
    "Você pode ter instruções `if` dentro de instruções `if`, isso é chamado de instruções aninhamento."
   ],
   "metadata": {
    "collapsed": false
   },
   "id": "833e243a7bff2de8"
  },
  {
   "cell_type": "code",
   "outputs": [
    {
     "name": "stdout",
     "output_type": "stream",
     "text": [
      "Above ten,\n",
      "and also above 20!\n"
     ]
    }
   ],
   "source": [
    "x = 40\n",
    "\n",
    "if x > 10:\n",
    "    print(\"Above ten,\")\n",
    "    if x > 20:\n",
    "        print(\"and also above 20!\")\n",
    "    else:\n",
    "        print(\"but not above 20.\")"
   ],
   "metadata": {
    "collapsed": false,
    "ExecuteTime": {
     "end_time": "2024-01-02T01:57:02.647183300Z",
     "start_time": "2024-01-02T01:57:02.574209600Z"
    }
   },
   "id": "aa87944056f6b0f3",
   "execution_count": 1
  },
  {
   "cell_type": "markdown",
   "source": [
    "## A palavra-chave pass\n",
    "\n",
    "O uso do `pass` permite que você escreva código que seja sintaticamente correto, mas não executa nenhuma operação real no local. O `pass` é uma declaração `null`. O intérprete não ignora uma instrução `pass`, mas nada acontece e a instrução não resulta em nenhuma operação.\n",
    "É útil quando você não escreve a implementação de uma função, estrutura de repetição/condicional ou classe, mas deseja implementá-la no futuro."
   ],
   "metadata": {
    "collapsed": false
   },
   "id": "807c0f0f54c8ef7a"
  },
  {
   "cell_type": "code",
   "outputs": [],
   "source": [
    "if 200 > 30:\n",
    "    pass\n",
    "\n",
    "def myfunc():\n",
    "    pass"
   ],
   "metadata": {
    "collapsed": false,
    "ExecuteTime": {
     "end_time": "2024-01-02T02:11:48.476050800Z",
     "start_time": "2024-01-02T02:11:48.445940100Z"
    }
   },
   "id": "11079ec328d1c9a0",
   "execution_count": 5
  }
 ],
 "metadata": {
  "kernelspec": {
   "display_name": "Python 3",
   "language": "python",
   "name": "python3"
  },
  "language_info": {
   "codemirror_mode": {
    "name": "ipython",
    "version": 2
   },
   "file_extension": ".py",
   "mimetype": "text/x-python",
   "name": "python",
   "nbconvert_exporter": "python",
   "pygments_lexer": "ipython2",
   "version": "2.7.6"
  }
 },
 "nbformat": 4,
 "nbformat_minor": 5
}
