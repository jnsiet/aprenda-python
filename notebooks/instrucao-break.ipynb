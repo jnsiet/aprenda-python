{
 "cells": [
  {
   "cell_type": "markdown",
   "source": [
    "# A Instrução Break\n",
    "\n",
    "A instrução `break` é utilizada para interromper a execução de um loop.\n",
    "\n",
    "Quando usada dentro de um loop aninhado (loop dentro de outro loop), a instrução `break` interromperá apenas o loop mais interno no qual ela é encontrada, não afetando os loops externos."
   ],
   "metadata": {
    "collapsed": false
   },
   "id": "7b4fdf35c531ef45"
  },
  {
   "cell_type": "code",
   "execution_count": 3,
   "id": "initial_id",
   "metadata": {
    "collapsed": true,
    "ExecuteTime": {
     "end_time": "2024-01-02T13:57:35.451166100Z",
     "start_time": "2024-01-02T13:57:35.426889900Z"
    }
   },
   "outputs": [
    {
     "name": "stdout",
     "output_type": "stream",
     "text": [
      "Iteração externa 0\n",
      "  Iteração interna 0\n",
      "  Iteração interna 1\n",
      "  -- Saindo do loop interno\n",
      "Continuando após o loop interno\n",
      "Iteração externa 1\n",
      "  Iteração interna 0\n",
      "  Iteração interna 1\n",
      "  -- Saindo do loop interno\n",
      "Continuando após o loop interno\n",
      "Iteração externa 2\n",
      "  Iteração interna 0\n",
      "  Iteração interna 1\n",
      "  -- Saindo do loop interno\n",
      "Continuando após o loop interno\n",
      "Iteração externa 3\n",
      "  Iteração interna 0\n",
      "  Iteração interna 1\n",
      "  -- Saindo do loop interno\n",
      "Continuando após o loop interno\n",
      "Iteração externa 4\n",
      "  Iteração interna 0\n",
      "  Iteração interna 1\n",
      "  -- Saindo do loop interno\n",
      "Continuando após o loop interno\n"
     ]
    }
   ],
   "source": [
    "for i in range(5):\n",
    "    print(f'Iteração externa {i}')\n",
    "\n",
    "    for j in range(3):\n",
    "        print(f'  Iteração interna {j}')\n",
    "\n",
    "        if j == 1:\n",
    "            print('  -- Saindo do loop interno')\n",
    "            break\n",
    "\n",
    "    print('Continuando após o loop interno')"
   ]
  }
 ],
 "metadata": {
  "kernelspec": {
   "display_name": "Python 3",
   "language": "python",
   "name": "python3"
  },
  "language_info": {
   "codemirror_mode": {
    "name": "ipython",
    "version": 2
   },
   "file_extension": ".py",
   "mimetype": "text/x-python",
   "name": "python",
   "nbconvert_exporter": "python",
   "pygments_lexer": "ipython2",
   "version": "2.7.6"
  }
 },
 "nbformat": 4,
 "nbformat_minor": 5
}
