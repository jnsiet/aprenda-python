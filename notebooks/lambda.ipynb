{
 "cells": [
  {
   "cell_type": "markdown",
   "source": [
    "# Lambda\n",
    "\n",
    "Uma função lambda é uma função anônima. Sua sintaxe é: `lambda <arg1, arg2 ...> : <expression>`.\n",
    "\n",
    "Uma função anônima é uma função sem nome, é uma forma de simplificar a criação de funções menores e de executar o código exatamente no local que foi escrito, como consequência, não possuem a flexibilidade de serem chamadas em diferentes lugares do programa como acontece com as funções nomeadas. As funções anônimas são geralmente utilizadas no momento em que são definidas, muitas vezes como argumentos para outras funções.\n"
   ],
   "metadata": {
    "collapsed": false
   },
   "id": "1410a7f1982d547c"
  },
  {
   "cell_type": "code",
   "outputs": [
    {
     "name": "stdout",
     "output_type": "stream",
     "text": [
      "[1, 4, 9, 16, 25]\n"
     ]
    }
   ],
   "source": [
    "numeros = [1, 2, 3, 4, 5]\n",
    "\n",
    "# Usando map e lambda para elevar ao quadrado cada elemento da lista\n",
    "quadrados = list(map(lambda x: x**2, numeros))\n",
    "\n",
    "print(quadrados)"
   ],
   "metadata": {
    "collapsed": false,
    "ExecuteTime": {
     "end_time": "2024-01-02T11:18:37.338383400Z",
     "start_time": "2024-01-02T11:18:37.328384200Z"
    }
   },
   "id": "fbccf4859c788a92",
   "execution_count": 7
  },
  {
   "cell_type": "markdown",
   "source": [
    "Uma função lambda pode receber qualquer número de argumentos, mas só pode ter uma expressão."
   ],
   "metadata": {
    "collapsed": false
   },
   "id": "64e0cc9c1bacb68a"
  },
  {
   "cell_type": "code",
   "outputs": [],
   "source": [],
   "metadata": {
    "collapsed": false
   },
   "id": "1e0f98e093eb4dd5"
  }
 ],
 "metadata": {
  "kernelspec": {
   "display_name": "Python 3",
   "language": "python",
   "name": "python3"
  },
  "language_info": {
   "codemirror_mode": {
    "name": "ipython",
    "version": 2
   },
   "file_extension": ".py",
   "mimetype": "text/x-python",
   "name": "python",
   "nbconvert_exporter": "python",
   "pygments_lexer": "ipython2",
   "version": "2.7.6"
  }
 },
 "nbformat": 4,
 "nbformat_minor": 5
}
