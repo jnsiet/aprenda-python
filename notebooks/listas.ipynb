{
 "cells": [
  {
   "cell_type": "markdown",
   "source": [
    "# Listas\n",
    "\n",
    "As listas são usadas para armazenar vários itens em uma única variável. É um dos 4 tipos de dados integrados em Python usados para armazenar coleções de dados.\n",
    "\n",
    "Os itens da lista são **ordenados**(os itens têm uma ordem definida e essa ordem não mudará), **alteráveis**(podemos alterar, adicionar e remover itens de uma lista) e permitem **duplicatas**(podem ter itens com o mesmo valor).\n"
   ],
   "metadata": {
    "collapsed": false
   },
   "id": "1e3ea5d7c57fd470"
  },
  {
   "cell_type": "code",
   "execution_count": 180,
   "id": "initial_id",
   "metadata": {
    "collapsed": true,
    "ExecuteTime": {
     "end_time": "2024-01-02T17:48:21.932995800Z",
     "start_time": "2024-01-02T17:48:21.802446500Z"
    }
   },
   "outputs": [
    {
     "name": "stdout",
     "output_type": "stream",
     "text": [
      "['apple', 'banana', 'cherry', 'apple', 'cherry']\n",
      "5\n",
      "<class 'list'>\n"
     ]
    }
   ],
   "source": [
    "thislist = [\"apple\", \"banana\", \"cherry\", \"apple\", \"cherry\"]\n",
    "print(thislist)\n",
    "\n",
    "print(len(thislist))    # para determinar quantos itens uma lista possui, use a função len()\n",
    "\n",
    "print(type(thislist))   # thislist é uma instância(objeto) da classe list"
   ]
  },
  {
   "cell_type": "markdown",
   "source": [
    "## Tipos de Dados em uma Lista\n",
    "\n",
    "Os itens da lista podem ser de qualquer tipo de dados além de, pode conter diferentes tipos de dados."
   ],
   "metadata": {
    "collapsed": false
   },
   "id": "909244b59b8c57d"
  },
  {
   "cell_type": "code",
   "outputs": [],
   "source": [
    "list1 = [\"abc\", 34, True, 40, \"male\"]\n",
    "\n",
    "list2 = [1, 5, 7, 9, 3]"
   ],
   "metadata": {
    "collapsed": false,
    "ExecuteTime": {
     "end_time": "2024-01-02T17:48:21.987768200Z",
     "start_time": "2024-01-02T17:48:21.943356700Z"
    }
   },
   "id": "923d73a0b0ce9e38",
   "execution_count": 181
  },
  {
   "cell_type": "markdown",
   "source": [
    "## O Construtor list()\n",
    "\n",
    "Também é possível usar o construtor `list()` ao criar uma nova lista."
   ],
   "metadata": {
    "collapsed": false
   },
   "id": "72e7a23746c66306"
  },
  {
   "cell_type": "code",
   "outputs": [
    {
     "name": "stdout",
     "output_type": "stream",
     "text": [
      "['apple', 'banana', 'cherry']\n"
     ]
    }
   ],
   "source": [
    "thislist = list((\"apple\", \"banana\", \"cherry\")) # note the double round-brackets\n",
    "print(thislist)"
   ],
   "metadata": {
    "collapsed": false,
    "ExecuteTime": {
     "end_time": "2024-01-02T17:48:22.047706200Z",
     "start_time": "2024-01-02T17:48:21.979362500Z"
    }
   },
   "id": "296b9322f6db49f",
   "execution_count": 182
  },
  {
   "cell_type": "markdown",
   "source": [
    "## Acessando os Itens da Lista\n",
    "\n",
    "Os itens da lista são indexados e você pode acessá-los consultando o número do índice.\n",
    "**Nota:** O primeiro item possui índice 0."
   ],
   "metadata": {
    "collapsed": false
   },
   "id": "897b7efcf1a55d3a"
  },
  {
   "cell_type": "code",
   "outputs": [
    {
     "name": "stdout",
     "output_type": "stream",
     "text": [
      "banana\n"
     ]
    }
   ],
   "source": [
    "thislist = [\"apple\", \"banana\", \"cherry\"]\n",
    "print(thislist[1])"
   ],
   "metadata": {
    "collapsed": false,
    "ExecuteTime": {
     "end_time": "2024-01-02T17:48:22.152944700Z",
     "start_time": "2024-01-02T17:48:22.056705300Z"
    }
   },
   "id": "eff6f4eb6dcc7abc",
   "execution_count": 183
  },
  {
   "cell_type": "markdown",
   "source": [
    "## Indexação Negativa\n",
    "\n",
    "Indexação negativa significa começar do fim. `-1` refere-se ao último item, `-2` refere-se ao penúltimo item etc."
   ],
   "metadata": {
    "collapsed": false
   },
   "id": "815d40f74efec17b"
  },
  {
   "cell_type": "code",
   "outputs": [
    {
     "name": "stdout",
     "output_type": "stream",
     "text": [
      "cherry\n"
     ]
    }
   ],
   "source": [
    "thislist = [\"apple\", \"banana\", \"cherry\"]\n",
    "print(thislist[-1])"
   ],
   "metadata": {
    "collapsed": false,
    "ExecuteTime": {
     "end_time": "2024-01-02T17:48:22.179807400Z",
     "start_time": "2024-01-02T17:48:22.091415900Z"
    }
   },
   "id": "8defd7bb88f80052",
   "execution_count": 184
  },
  {
   "cell_type": "markdown",
   "source": [
    "## Range de Índices\n",
    "\n",
    "A técnica é chamada de fatiamento (slicing). O slicing permite que você crie uma nova lista, string ou tupla a partir de parte de uma lista existente, especificando um intervalo de índices.\n",
    "\n",
    "Essa operação permite delimitar os limites inferior e superior(não incluído) que queremos acessar."
   ],
   "metadata": {
    "collapsed": false
   },
   "id": "3caa4c725a2cef3"
  },
  {
   "cell_type": "code",
   "outputs": [
    {
     "name": "stdout",
     "output_type": "stream",
     "text": [
      "['cherry', 'orange', 'kiwi']\n"
     ]
    }
   ],
   "source": [
    "thislist = [\"apple\", \"banana\", \"cherry\", \"orange\", \"kiwi\", \"melon\", \"mango\"]\n",
    "print(thislist[2:5]) # a pesquisa começará no índice 2 (incluído) e terminará no índice 5 (não incluído)"
   ],
   "metadata": {
    "collapsed": false,
    "ExecuteTime": {
     "end_time": "2024-01-02T17:48:22.293313200Z",
     "start_time": "2024-01-02T17:48:22.193883900Z"
    }
   },
   "id": "16c55803b6f83b84",
   "execution_count": 185
  },
  {
   "cell_type": "code",
   "outputs": [
    {
     "name": "stdout",
     "output_type": "stream",
     "text": [
      "['apple', 'banana', 'cherry', 'orange']\n"
     ]
    }
   ],
   "source": [
    "thislist = [\"apple\", \"banana\", \"cherry\", \"orange\", \"kiwi\", \"melon\", \"mango\"]\n",
    "print(thislist[:4]) # ao omitir o valor inicial, o intervalo começará no primeiro item"
   ],
   "metadata": {
    "collapsed": false,
    "ExecuteTime": {
     "end_time": "2024-01-02T17:48:22.347656Z",
     "start_time": "2024-01-02T17:48:22.284359200Z"
    }
   },
   "id": "7b4aef33f0a258f7",
   "execution_count": 186
  },
  {
   "cell_type": "code",
   "outputs": [
    {
     "name": "stdout",
     "output_type": "stream",
     "text": [
      "['cherry', 'orange', 'kiwi', 'melon', 'mango']\n"
     ]
    }
   ],
   "source": [
    "thislist = [\"apple\", \"banana\", \"cherry\", \"orange\", \"kiwi\", \"melon\", \"mango\"]\n",
    "print(thislist[2:]) # ao omitir o valor final, o intervalo irá para o final da lista"
   ],
   "metadata": {
    "collapsed": false,
    "ExecuteTime": {
     "end_time": "2024-01-02T17:48:22.367070700Z",
     "start_time": "2024-01-02T17:48:22.320441800Z"
    }
   },
   "id": "8703ec9f0546ccf5",
   "execution_count": 187
  },
  {
   "cell_type": "markdown",
   "source": [
    "### Range de Índices Negativos\n",
    "\n",
    "Especifique índices negativos se desejar iniciar a pesquisa do final da lista."
   ],
   "metadata": {
    "collapsed": false
   },
   "id": "955f0e7aedfc9d7a"
  },
  {
   "cell_type": "code",
   "outputs": [
    {
     "name": "stdout",
     "output_type": "stream",
     "text": [
      "['orange', 'kiwi', 'melon']\n"
     ]
    }
   ],
   "source": [
    "thislist = [\"apple\", \"banana\", \"cherry\", \"orange\", \"kiwi\", \"melon\", \"mango\"]\n",
    "print(thislist[-4:-1])"
   ],
   "metadata": {
    "collapsed": false,
    "ExecuteTime": {
     "end_time": "2024-01-02T17:48:22.427981200Z",
     "start_time": "2024-01-02T17:48:22.361659Z"
    }
   },
   "id": "5acc5f57ca17e319",
   "execution_count": 188
  },
  {
   "cell_type": "code",
   "outputs": [
    {
     "name": "stdout",
     "output_type": "stream",
     "text": [
      "['orange', 'kiwi', 'melon', 'mango']\n"
     ]
    }
   ],
   "source": [
    "thislist = [\"apple\", \"banana\", \"cherry\", \"orange\", \"kiwi\", \"melon\", \"mango\"]\n",
    "print(thislist[-4:])"
   ],
   "metadata": {
    "collapsed": false,
    "ExecuteTime": {
     "end_time": "2024-01-02T17:48:22.515627300Z",
     "start_time": "2024-01-02T17:48:22.434984600Z"
    }
   },
   "id": "876c569f92663c45",
   "execution_count": 189
  },
  {
   "cell_type": "code",
   "outputs": [
    {
     "name": "stdout",
     "output_type": "stream",
     "text": [
      "['apple', 'banana', 'cherry', 'orange', 'kiwi']\n"
     ]
    }
   ],
   "source": [
    "thislist = [\"apple\", \"banana\", \"cherry\", \"orange\", \"kiwi\", \"melon\", \"mango\"]\n",
    "print(thislist[:-2])"
   ],
   "metadata": {
    "collapsed": false,
    "ExecuteTime": {
     "end_time": "2024-01-02T17:48:22.534836200Z",
     "start_time": "2024-01-02T17:48:22.461984700Z"
    }
   },
   "id": "866a0fb60edeea02",
   "execution_count": 190
  },
  {
   "cell_type": "markdown",
   "source": [
    "## Alterar Valor do Item\n",
    "\n",
    "Para alterar o valor de um item específico, consulte o número do índice."
   ],
   "metadata": {
    "collapsed": false
   },
   "id": "d152d060d6eec297"
  },
  {
   "cell_type": "code",
   "outputs": [
    {
     "name": "stdout",
     "output_type": "stream",
     "text": [
      "['apple', 'blackcurrant', 'cherry']\n"
     ]
    }
   ],
   "source": [
    "thislist = [\"apple\", \"banana\", \"cherry\"]\n",
    "thislist[1] = \"blackcurrant\"\n",
    "print(thislist)"
   ],
   "metadata": {
    "collapsed": false,
    "ExecuteTime": {
     "end_time": "2024-01-02T17:48:22.576889500Z",
     "start_time": "2024-01-02T17:48:22.480254200Z"
    }
   },
   "id": "577582c4f8927bad",
   "execution_count": 191
  },
  {
   "cell_type": "markdown",
   "source": [
    "## Alterar um Intervalo de Valores\n",
    "\n",
    "Para alterar o valor dos itens dentro de um intervalo específico, defina uma lista com os novos valores e consulte o intervalo de números de índice onde deseja inserir os novos valores."
   ],
   "metadata": {
    "collapsed": false
   },
   "id": "2995840d1edf17a0"
  },
  {
   "cell_type": "code",
   "outputs": [
    {
     "name": "stdout",
     "output_type": "stream",
     "text": [
      "['apple', 'blackcurrant', 'watermelon', 'orange', 'kiwi', 'mango']\n"
     ]
    }
   ],
   "source": [
    "thislist = [\"apple\", \"banana\", \"cherry\", \"orange\", \"kiwi\", \"mango\"]\n",
    "thislist[1:3] = [\"blackcurrant\", \"watermelon\"]\n",
    "print(thislist)"
   ],
   "metadata": {
    "collapsed": false,
    "ExecuteTime": {
     "end_time": "2024-01-02T17:48:22.622908100Z",
     "start_time": "2024-01-02T17:48:22.494633700Z"
    }
   },
   "id": "fa3052033703a7b0",
   "execution_count": 192
  },
  {
   "cell_type": "markdown",
   "source": [
    "Se você inserir mais itens do que substitui, os novos itens serão inseridos onde você especificou e os itens restantes serão movidos de acordo."
   ],
   "metadata": {
    "collapsed": false
   },
   "id": "d97499b7042d2626"
  },
  {
   "cell_type": "code",
   "outputs": [
    {
     "name": "stdout",
     "output_type": "stream",
     "text": [
      "['apple', 'blackcurrant', 'watermelon', 'cherry']\n"
     ]
    }
   ],
   "source": [
    "thislist = [\"apple\", \"banana\", \"cherry\"]\n",
    "thislist[1:2] = [\"blackcurrant\", \"watermelon\"]\n",
    "print(thislist)"
   ],
   "metadata": {
    "collapsed": false,
    "ExecuteTime": {
     "end_time": "2024-01-02T17:48:22.655907Z",
     "start_time": "2024-01-02T17:48:22.530699400Z"
    }
   },
   "id": "b26e061e6c417be0",
   "execution_count": 193
  },
  {
   "cell_type": "markdown",
   "source": [
    "Se você inserir menos itens do que substitui, os novos itens serão inseridos onde você especificou e os itens restantes serão movidos de acordo."
   ],
   "metadata": {
    "collapsed": false
   },
   "id": "e5d41608a8d3570b"
  },
  {
   "cell_type": "code",
   "outputs": [
    {
     "name": "stdout",
     "output_type": "stream",
     "text": [
      "['apple', 'watermelon', 'kiwi']\n"
     ]
    }
   ],
   "source": [
    "thislist = [\"apple\", \"banana\", \"cherry\", \"orange\", \"kiwi\"]\n",
    "thislist[1:4] = [\"watermelon\"]  # thislist[1:4] = [\"banana\", \"cherry\", \"orange\"]\n",
    "print(thislist)"
   ],
   "metadata": {
    "collapsed": false,
    "ExecuteTime": {
     "end_time": "2024-01-02T17:48:22.840635200Z",
     "start_time": "2024-01-02T17:48:22.639907600Z"
    }
   },
   "id": "7fc9387292482956",
   "execution_count": 194
  },
  {
   "cell_type": "markdown",
   "source": [
    "## Anexar itens\n",
    "\n",
    "### Função insert()\n",
    "\n",
    "Para inserir um novo item da lista, sem substituir nenhum dos valores existentes, podemos usar o método insert().\n",
    "\n",
    "Sua sintaxe é: `list.insert(pos, element)`."
   ],
   "metadata": {
    "collapsed": false
   },
   "id": "16d5055ae97794c1"
  },
  {
   "cell_type": "code",
   "outputs": [
    {
     "name": "stdout",
     "output_type": "stream",
     "text": [
      "['apple', 'banana', 'watermelon', 'cherry']\n"
     ]
    }
   ],
   "source": [
    "thislist = [\"apple\", \"banana\", \"cherry\"]\n",
    "thislist.insert(2, \"watermelon\")\n",
    "print(thislist)"
   ],
   "metadata": {
    "collapsed": false,
    "ExecuteTime": {
     "end_time": "2024-01-02T17:48:22.965596100Z",
     "start_time": "2024-01-02T17:48:22.834014500Z"
    }
   },
   "id": "baa4e3ee6fc1334",
   "execution_count": 195
  },
  {
   "cell_type": "markdown",
   "source": [
    "### Função append()\n",
    "\n",
    "Adiciona um item ao final da lista.\n",
    "\n",
    "Sintaxe: `list.append(element)`"
   ],
   "metadata": {
    "collapsed": false
   },
   "id": "297b6df7faf19c24"
  },
  {
   "cell_type": "code",
   "outputs": [
    {
     "name": "stdout",
     "output_type": "stream",
     "text": [
      "['apple', 'banana', 'cherry', 'orange']\n"
     ]
    }
   ],
   "source": [
    "thislist = [\"apple\", \"banana\", \"cherry\"]\n",
    "thislist.append(\"orange\")\n",
    "print(thislist)"
   ],
   "metadata": {
    "collapsed": false,
    "ExecuteTime": {
     "end_time": "2024-01-02T17:48:22.997685900Z",
     "start_time": "2024-01-02T17:48:22.910241700Z"
    }
   },
   "id": "ab87fe54ce970a6b",
   "execution_count": 196
  },
  {
   "cell_type": "code",
   "outputs": [
    {
     "name": "stdout",
     "output_type": "stream",
     "text": [
      "['apple', 'banana', 'cherry', ['Ford', 'BMW', 'Volvo']]\n"
     ]
    }
   ],
   "source": [
    "a = [\"apple\", \"banana\", \"cherry\"]\n",
    "b = [\"Ford\", \"BMW\", \"Volvo\"]\n",
    "a.append(b)\n",
    "print(a)"
   ],
   "metadata": {
    "collapsed": false,
    "ExecuteTime": {
     "end_time": "2024-01-02T17:48:23.072683500Z",
     "start_time": "2024-01-02T17:48:22.994370900Z"
    }
   },
   "id": "9a6632bf9dc0d6be",
   "execution_count": 197
  },
  {
   "cell_type": "markdown",
   "source": [
    "### Função extend()\n",
    "\n",
    "Acrescenta elementos de um iterável(lista, conjunto, tupla, etc.) no final da lista atual.\n",
    "\n",
    "Sintaxe: `list.extend(iterable)`"
   ],
   "metadata": {
    "collapsed": false
   },
   "id": "482f60ef649d3e66"
  },
  {
   "cell_type": "code",
   "outputs": [],
   "source": [
    "fruits = ['apple', 'banana', 'cherry']\n",
    "points = (1, 4, 5, 9)\n",
    "fruits.extend(points)"
   ],
   "metadata": {
    "collapsed": false,
    "ExecuteTime": {
     "end_time": "2024-01-02T17:48:23.093713800Z",
     "start_time": "2024-01-02T17:48:23.069682900Z"
    }
   },
   "id": "24a98c698b3ce11",
   "execution_count": 198
  },
  {
   "cell_type": "markdown",
   "source": [
    "## Remover item especificado\n",
    "\n",
    "### Função remove()\n",
    "\n",
    "O método `remove()` remove o item especificado. Se houver mais de um item com o valor especificado, o método `remove()` remove somente a primeira ocorrência."
   ],
   "metadata": {
    "collapsed": false
   },
   "id": "dee53f3cae5d45f1"
  },
  {
   "cell_type": "code",
   "outputs": [
    {
     "name": "stdout",
     "output_type": "stream",
     "text": [
      "['apple', 'cherry', 'banana', 'kiwi']\n"
     ]
    }
   ],
   "source": [
    "thislist = [\"apple\", \"banana\", \"cherry\", \"banana\", \"kiwi\"]\n",
    "thislist.remove(\"banana\")\n",
    "print(thislist)"
   ],
   "metadata": {
    "collapsed": false,
    "ExecuteTime": {
     "end_time": "2024-01-02T17:48:23.148798500Z",
     "start_time": "2024-01-02T17:48:23.092683300Z"
    }
   },
   "id": "f59605e2069fe8f6",
   "execution_count": 199
  },
  {
   "cell_type": "markdown",
   "source": [
    "### Função pop()\n",
    "\n",
    "O método `pop()` remove o índice especificado. Se você não especificar o índice, o método `pop()` removerá o último item."
   ],
   "metadata": {
    "collapsed": false
   },
   "id": "e87b9491a3bc30c1"
  },
  {
   "cell_type": "code",
   "outputs": [
    {
     "name": "stdout",
     "output_type": "stream",
     "text": [
      "['apple', 'cherry']\n"
     ]
    }
   ],
   "source": [
    "thislist = [\"apple\", \"banana\", \"cherry\"]\n",
    "thislist.pop(1)\n",
    "print(thislist)"
   ],
   "metadata": {
    "collapsed": false,
    "ExecuteTime": {
     "end_time": "2024-01-02T17:48:23.174783200Z",
     "start_time": "2024-01-02T17:48:23.112116Z"
    }
   },
   "id": "39afe6c10a8d475a",
   "execution_count": 200
  },
  {
   "cell_type": "code",
   "outputs": [
    {
     "name": "stdout",
     "output_type": "stream",
     "text": [
      "['banana', 'cherry']\n"
     ]
    }
   ],
   "source": [
    "thislist = [\"apple\", \"banana\", \"cherry\"]\n",
    "del thislist[0]     # a palavra-chave del também remove o índice especificado\n",
    "print(thislist)\n",
    "\n",
    "del thislist        # também pode excluir a lista completamente"
   ],
   "metadata": {
    "collapsed": false,
    "ExecuteTime": {
     "end_time": "2024-01-02T17:48:23.308802700Z",
     "start_time": "2024-01-02T17:48:23.159789500Z"
    }
   },
   "id": "c00d435c1ec8ec96",
   "execution_count": 201
  },
  {
   "cell_type": "markdown",
   "source": [
    "### Função clear()\n",
    "\n",
    "O método `clear()` esvazia a lista."
   ],
   "metadata": {
    "collapsed": false
   },
   "id": "c4acf6fb4b373f85"
  },
  {
   "cell_type": "code",
   "outputs": [
    {
     "name": "stdout",
     "output_type": "stream",
     "text": [
      "[]\n"
     ]
    }
   ],
   "source": [
    "thislist = [\"apple\", \"banana\", \"cherry\"]\n",
    "thislist.clear()\n",
    "print(thislist)"
   ],
   "metadata": {
    "collapsed": false,
    "ExecuteTime": {
     "end_time": "2024-01-02T17:48:23.424125500Z",
     "start_time": "2024-01-02T17:48:23.266790Z"
    }
   },
   "id": "957e38671d2511d7",
   "execution_count": 202
  },
  {
   "cell_type": "markdown",
   "source": [
    "## Copiando Listas\n",
    "\n",
    "Você não pode copiar uma lista simplesmente digitando `lista2 = lista1`, porque `lista2` será apenas uma referência(cópia por referência) à `lista1`, e as alterações feitas em uma serão automaticamente feitas também na outra.\n",
    "\n",
    "Existem maneiras de fazer uma cópia, uma maneira é usar o método interno `copy()`."
   ],
   "metadata": {
    "collapsed": false
   },
   "id": "2b83605ea3a6e2e8"
  },
  {
   "cell_type": "code",
   "outputs": [
    {
     "name": "stdout",
     "output_type": "stream",
     "text": [
      "0x1c08a0bb180\n",
      "0x1c08a0bb180\n",
      "0x1c0886db540\n",
      "0x1c08a0cd980\n"
     ]
    }
   ],
   "source": [
    "list1 = [1, 2, 3]\n",
    "list2 = list1         # jeito errado de copiar listas\n",
    "\n",
    "print(hex(id(list1))) # a função id() fornece o endereço de memória de uma variável\n",
    "print(hex(id(list2))) # id() retornará um número de base 10. A função hex() converte em número hexadecimal\n",
    "\n",
    "list3 = list1.copy()\n",
    "print(hex(id(list3)))\n",
    "\n",
    "list4 = list(list1)    # outra maneira de fazer uma cópia é usar o método integrado list()\n",
    "print(hex(id(list4)))"
   ],
   "metadata": {
    "collapsed": false,
    "ExecuteTime": {
     "end_time": "2024-01-02T17:48:23.461132600Z",
     "start_time": "2024-01-02T17:48:23.357010400Z"
    }
   },
   "id": "91ac8e05134c6647",
   "execution_count": 203
  }
 ],
 "metadata": {
  "kernelspec": {
   "display_name": "Python 3",
   "language": "python",
   "name": "python3"
  },
  "language_info": {
   "codemirror_mode": {
    "name": "ipython",
    "version": 2
   },
   "file_extension": ".py",
   "mimetype": "text/x-python",
   "name": "python",
   "nbconvert_exporter": "python",
   "pygments_lexer": "ipython2",
   "version": "2.7.6"
  }
 },
 "nbformat": 4,
 "nbformat_minor": 5
}
