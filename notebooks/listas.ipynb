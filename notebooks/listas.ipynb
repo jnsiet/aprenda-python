{
 "cells": [
  {
   "cell_type": "markdown",
   "source": [
    "# Listas\n",
    "\n",
    "As listas são usadas para armazenar vários itens em uma única variável. É um dos 4 tipos de dados integrados em Python usados para armazenar coleções de dados.\n",
    "\n",
    "Os itens da lista são **ordenados**(os itens têm uma ordem definida e essa ordem não mudará), **alteráveis**(podemos alterar, adicionar e remover itens de uma lista) e permitem **duplicatas**(podem ter itens com o mesmo valor).\n"
   ],
   "metadata": {
    "collapsed": false
   },
   "id": "1e3ea5d7c57fd470"
  },
  {
   "cell_type": "code",
   "execution_count": 52,
   "id": "initial_id",
   "metadata": {
    "collapsed": true,
    "ExecuteTime": {
     "end_time": "2024-01-02T16:21:23.032866900Z",
     "start_time": "2024-01-02T16:21:22.938639800Z"
    }
   },
   "outputs": [
    {
     "name": "stdout",
     "output_type": "stream",
     "text": [
      "['apple', 'banana', 'cherry', 'apple', 'cherry']\n",
      "5\n",
      "<class 'list'>\n"
     ]
    }
   ],
   "source": [
    "thislist = [\"apple\", \"banana\", \"cherry\", \"apple\", \"cherry\"]\n",
    "print(thislist)\n",
    "\n",
    "print(len(thislist))    # para determinar quantos itens uma lista possui, use a função len()\n",
    "\n",
    "print(type(thislist))   # thislist é uma instância(objeto) da classe list"
   ]
  },
  {
   "cell_type": "markdown",
   "source": [
    "## Tipos de Dados em uma Lista\n",
    "\n",
    "Os itens da lista podem ser de qualquer tipo de dados além de, pode conter diferentes tipos de dados."
   ],
   "metadata": {
    "collapsed": false
   },
   "id": "909244b59b8c57d"
  },
  {
   "cell_type": "code",
   "outputs": [],
   "source": [
    "list1 = [\"abc\", 34, True, 40, \"male\"]\n",
    "\n",
    "list2 = [1, 5, 7, 9, 3]"
   ],
   "metadata": {
    "collapsed": false,
    "ExecuteTime": {
     "end_time": "2024-01-02T16:21:23.098251200Z",
     "start_time": "2024-01-02T16:21:23.042874700Z"
    }
   },
   "id": "923d73a0b0ce9e38",
   "execution_count": 53
  },
  {
   "cell_type": "markdown",
   "source": [
    "## O Construtor list()\n",
    "\n",
    "Também é possível usar o construtor `list()` ao criar uma nova lista."
   ],
   "metadata": {
    "collapsed": false
   },
   "id": "72e7a23746c66306"
  },
  {
   "cell_type": "code",
   "outputs": [
    {
     "name": "stdout",
     "output_type": "stream",
     "text": [
      "['apple', 'banana', 'cherry']\n"
     ]
    }
   ],
   "source": [
    "thislist = list((\"apple\", \"banana\", \"cherry\")) # note the double round-brackets\n",
    "print(thislist)"
   ],
   "metadata": {
    "collapsed": false,
    "ExecuteTime": {
     "end_time": "2024-01-02T16:21:23.147385200Z",
     "start_time": "2024-01-02T16:21:23.090877300Z"
    }
   },
   "id": "296b9322f6db49f",
   "execution_count": 54
  },
  {
   "cell_type": "markdown",
   "source": [
    "## Acessando os Itens da Lista\n",
    "\n",
    "Os itens da lista são indexados e você pode acessá-los consultando o número do índice.\n",
    "**Nota:** O primeiro item possui índice 0."
   ],
   "metadata": {
    "collapsed": false
   },
   "id": "897b7efcf1a55d3a"
  },
  {
   "cell_type": "code",
   "outputs": [
    {
     "name": "stdout",
     "output_type": "stream",
     "text": [
      "banana\n"
     ]
    }
   ],
   "source": [
    "thislist = [\"apple\", \"banana\", \"cherry\"]\n",
    "print(thislist[1])"
   ],
   "metadata": {
    "collapsed": false,
    "ExecuteTime": {
     "end_time": "2024-01-02T16:21:23.178735100Z",
     "start_time": "2024-01-02T16:21:23.155392100Z"
    }
   },
   "id": "eff6f4eb6dcc7abc",
   "execution_count": 55
  },
  {
   "cell_type": "markdown",
   "source": [
    "## Indexação Negativa\n",
    "\n",
    "Indexação negativa significa começar do fim. `-1` refere-se ao último item, `-2` refere-se ao penúltimo item etc."
   ],
   "metadata": {
    "collapsed": false
   },
   "id": "815d40f74efec17b"
  },
  {
   "cell_type": "code",
   "outputs": [
    {
     "name": "stdout",
     "output_type": "stream",
     "text": [
      "cherry\n"
     ]
    }
   ],
   "source": [
    "thislist = [\"apple\", \"banana\", \"cherry\"]\n",
    "print(thislist[-1])"
   ],
   "metadata": {
    "collapsed": false,
    "ExecuteTime": {
     "end_time": "2024-01-02T16:21:23.292869400Z",
     "start_time": "2024-01-02T16:21:23.184774400Z"
    }
   },
   "id": "8defd7bb88f80052",
   "execution_count": 56
  },
  {
   "cell_type": "markdown",
   "source": [
    "## Range de Índices\n",
    "\n",
    "A técnica é chamada de fatiamento (slicing). O slicing permite que você crie uma nova lista, string ou tupla a partir de parte de uma lista existente, especificando um intervalo de índices.\n",
    "\n",
    "Essa operação permite delimitar os limites inferior e superior(não incluído) que queremos acessar."
   ],
   "metadata": {
    "collapsed": false
   },
   "id": "3caa4c725a2cef3"
  },
  {
   "cell_type": "code",
   "outputs": [
    {
     "name": "stdout",
     "output_type": "stream",
     "text": [
      "['cherry', 'orange', 'kiwi']\n"
     ]
    }
   ],
   "source": [
    "thislist = [\"apple\", \"banana\", \"cherry\", \"orange\", \"kiwi\", \"melon\", \"mango\"]\n",
    "print(thislist[2:5]) # a pesquisa começará no índice 2 (incluído) e terminará no índice 5 (não incluído)"
   ],
   "metadata": {
    "collapsed": false,
    "ExecuteTime": {
     "end_time": "2024-01-02T16:21:23.318404700Z",
     "start_time": "2024-01-02T16:21:23.282134200Z"
    }
   },
   "id": "16c55803b6f83b84",
   "execution_count": 57
  },
  {
   "cell_type": "code",
   "outputs": [
    {
     "name": "stdout",
     "output_type": "stream",
     "text": [
      "['apple', 'banana', 'cherry', 'orange']\n"
     ]
    }
   ],
   "source": [
    "thislist = [\"apple\", \"banana\", \"cherry\", \"orange\", \"kiwi\", \"melon\", \"mango\"]\n",
    "print(thislist[:4]) # ao omitir o valor inicial, o intervalo começará no primeiro item"
   ],
   "metadata": {
    "collapsed": false,
    "ExecuteTime": {
     "end_time": "2024-01-02T16:21:23.395478600Z",
     "start_time": "2024-01-02T16:21:23.326406500Z"
    }
   },
   "id": "7b4aef33f0a258f7",
   "execution_count": 58
  },
  {
   "cell_type": "code",
   "outputs": [
    {
     "name": "stdout",
     "output_type": "stream",
     "text": [
      "['cherry', 'orange', 'kiwi', 'melon', 'mango']\n"
     ]
    }
   ],
   "source": [
    "thislist = [\"apple\", \"banana\", \"cherry\", \"orange\", \"kiwi\", \"melon\", \"mango\"]\n",
    "print(thislist[2:]) # ao omitir o valor final, o intervalo irá para o final da lista"
   ],
   "metadata": {
    "collapsed": false,
    "ExecuteTime": {
     "end_time": "2024-01-02T16:21:23.418961Z",
     "start_time": "2024-01-02T16:21:23.386481700Z"
    }
   },
   "id": "8703ec9f0546ccf5",
   "execution_count": 59
  },
  {
   "cell_type": "markdown",
   "source": [
    "### Range de Índices Negativos\n",
    "\n",
    "Especifique índices negativos se desejar iniciar a pesquisa do final da lista."
   ],
   "metadata": {
    "collapsed": false
   },
   "id": "955f0e7aedfc9d7a"
  },
  {
   "cell_type": "code",
   "outputs": [
    {
     "name": "stdout",
     "output_type": "stream",
     "text": [
      "['orange', 'kiwi', 'melon']\n"
     ]
    }
   ],
   "source": [
    "thislist = [\"apple\", \"banana\", \"cherry\", \"orange\", \"kiwi\", \"melon\", \"mango\"]\n",
    "print(thislist[-4:-1])"
   ],
   "metadata": {
    "collapsed": false,
    "ExecuteTime": {
     "end_time": "2024-01-02T16:21:23.501727100Z",
     "start_time": "2024-01-02T16:21:23.413479500Z"
    }
   },
   "id": "5acc5f57ca17e319",
   "execution_count": 60
  },
  {
   "cell_type": "code",
   "outputs": [
    {
     "name": "stdout",
     "output_type": "stream",
     "text": [
      "['orange', 'kiwi', 'melon', 'mango']\n"
     ]
    }
   ],
   "source": [
    "thislist = [\"apple\", \"banana\", \"cherry\", \"orange\", \"kiwi\", \"melon\", \"mango\"]\n",
    "print(thislist[-4:])"
   ],
   "metadata": {
    "collapsed": false,
    "ExecuteTime": {
     "end_time": "2024-01-02T16:21:23.503981Z",
     "start_time": "2024-01-02T16:21:23.438256900Z"
    }
   },
   "id": "876c569f92663c45",
   "execution_count": 61
  },
  {
   "cell_type": "code",
   "outputs": [
    {
     "name": "stdout",
     "output_type": "stream",
     "text": [
      "['apple', 'banana', 'cherry', 'orange', 'kiwi']\n"
     ]
    }
   ],
   "source": [
    "thislist = [\"apple\", \"banana\", \"cherry\", \"orange\", \"kiwi\", \"melon\", \"mango\"]\n",
    "print(thislist[:-2])"
   ],
   "metadata": {
    "collapsed": false,
    "ExecuteTime": {
     "end_time": "2024-01-02T16:21:23.601220300Z",
     "start_time": "2024-01-02T16:21:23.493544900Z"
    }
   },
   "id": "866a0fb60edeea02",
   "execution_count": 62
  },
  {
   "cell_type": "markdown",
   "source": [
    "## Alterar Valor do Item\n",
    "\n",
    "Para alterar o valor de um item específico, consulte o número do índice."
   ],
   "metadata": {
    "collapsed": false
   },
   "id": "d152d060d6eec297"
  },
  {
   "cell_type": "code",
   "outputs": [
    {
     "name": "stdout",
     "output_type": "stream",
     "text": [
      "['apple', 'blackcurrant', 'cherry']\n"
     ]
    }
   ],
   "source": [
    "thislist = [\"apple\", \"banana\", \"cherry\"]\n",
    "thislist[1] = \"blackcurrant\"\n",
    "print(thislist)"
   ],
   "metadata": {
    "collapsed": false,
    "ExecuteTime": {
     "end_time": "2024-01-02T16:21:23.679803300Z",
     "start_time": "2024-01-02T16:21:23.590782900Z"
    }
   },
   "id": "577582c4f8927bad",
   "execution_count": 63
  },
  {
   "cell_type": "markdown",
   "source": [
    "## Alterar um Intervalo de Valores\n",
    "\n",
    "Para alterar o valor dos itens dentro de um intervalo específico, defina uma lista com os novos valores e consulte o intervalo de números de índice onde deseja inserir os novos valores."
   ],
   "metadata": {
    "collapsed": false
   },
   "id": "2995840d1edf17a0"
  },
  {
   "cell_type": "code",
   "outputs": [
    {
     "name": "stdout",
     "output_type": "stream",
     "text": [
      "['apple', 'blackcurrant', 'watermelon', 'orange', 'kiwi', 'mango']\n"
     ]
    }
   ],
   "source": [
    "thislist = [\"apple\", \"banana\", \"cherry\", \"orange\", \"kiwi\", \"mango\"]\n",
    "thislist[1:3] = [\"blackcurrant\", \"watermelon\"]\n",
    "print(thislist)"
   ],
   "metadata": {
    "collapsed": false,
    "ExecuteTime": {
     "end_time": "2024-01-02T16:21:23.697804900Z",
     "start_time": "2024-01-02T16:21:23.643473600Z"
    }
   },
   "id": "fa3052033703a7b0",
   "execution_count": 64
  },
  {
   "cell_type": "markdown",
   "source": [
    "Se você inserir mais itens do que substitui, os novos itens serão inseridos onde você especificou e os itens restantes serão movidos de acordo."
   ],
   "metadata": {
    "collapsed": false
   },
   "id": "d97499b7042d2626"
  },
  {
   "cell_type": "code",
   "outputs": [
    {
     "name": "stdout",
     "output_type": "stream",
     "text": [
      "['apple', 'blackcurrant', 'watermelon', 'cherry']\n"
     ]
    }
   ],
   "source": [
    "thislist = [\"apple\", \"banana\", \"cherry\"]\n",
    "thislist[1:2] = [\"blackcurrant\", \"watermelon\"]\n",
    "print(thislist)"
   ],
   "metadata": {
    "collapsed": false,
    "ExecuteTime": {
     "end_time": "2024-01-02T16:21:23.780185100Z",
     "start_time": "2024-01-02T16:21:23.709806500Z"
    }
   },
   "id": "b26e061e6c417be0",
   "execution_count": 65
  },
  {
   "cell_type": "markdown",
   "source": [
    "Se você inserir menos itens do que substitui, os novos itens serão inseridos onde você especificou e os itens restantes serão movidos de acordo."
   ],
   "metadata": {
    "collapsed": false
   },
   "id": "e5d41608a8d3570b"
  },
  {
   "cell_type": "code",
   "outputs": [
    {
     "name": "stdout",
     "output_type": "stream",
     "text": [
      "['apple', 'watermelon', 'kiwi']\n"
     ]
    }
   ],
   "source": [
    "thislist = [\"apple\", \"banana\", \"cherry\", \"orange\", \"kiwi\"]\n",
    "thislist[1:4] = [\"watermelon\"]  # thislist[1:4] = [\"banana\", \"cherry\", \"orange\"]\n",
    "print(thislist)"
   ],
   "metadata": {
    "collapsed": false,
    "ExecuteTime": {
     "end_time": "2024-01-02T16:21:23.864338100Z",
     "start_time": "2024-01-02T16:21:23.786204100Z"
    }
   },
   "id": "7fc9387292482956",
   "execution_count": 66
  },
  {
   "cell_type": "markdown",
   "source": [
    "## Anexar itens\n",
    "\n",
    "### Função insert()\n",
    "\n",
    "Para inserir um novo item da lista, sem substituir nenhum dos valores existentes, podemos usar o método insert().\n",
    "\n",
    "Sua sintaxe é: `list.insert(pos, element)`."
   ],
   "metadata": {
    "collapsed": false
   },
   "id": "16d5055ae97794c1"
  },
  {
   "cell_type": "code",
   "outputs": [
    {
     "name": "stdout",
     "output_type": "stream",
     "text": [
      "['apple', 'banana', 'watermelon', 'cherry']\n"
     ]
    }
   ],
   "source": [
    "thislist = [\"apple\", \"banana\", \"cherry\"]\n",
    "thislist.insert(2, \"watermelon\")\n",
    "print(thislist)"
   ],
   "metadata": {
    "collapsed": false,
    "ExecuteTime": {
     "end_time": "2024-01-02T16:21:23.967853500Z",
     "start_time": "2024-01-02T16:21:23.856994800Z"
    }
   },
   "id": "baa4e3ee6fc1334",
   "execution_count": 67
  },
  {
   "cell_type": "markdown",
   "source": [
    "### Função append()\n",
    "\n",
    "Adiciona um item ao final da lista.\n",
    "\n",
    "Sintaxe: `list.append(element)`"
   ],
   "metadata": {
    "collapsed": false
   },
   "id": "297b6df7faf19c24"
  },
  {
   "cell_type": "code",
   "outputs": [
    {
     "name": "stdout",
     "output_type": "stream",
     "text": [
      "['apple', 'banana', 'cherry', 'orange']\n"
     ]
    }
   ],
   "source": [
    "thislist = [\"apple\", \"banana\", \"cherry\"]\n",
    "thislist.append(\"orange\")\n",
    "print(thislist)"
   ],
   "metadata": {
    "collapsed": false,
    "ExecuteTime": {
     "end_time": "2024-01-02T16:21:24.017995Z",
     "start_time": "2024-01-02T16:21:23.932573100Z"
    }
   },
   "id": "ab87fe54ce970a6b",
   "execution_count": 68
  },
  {
   "cell_type": "code",
   "outputs": [
    {
     "name": "stdout",
     "output_type": "stream",
     "text": [
      "['apple', 'banana', 'cherry', ['Ford', 'BMW', 'Volvo']]\n"
     ]
    }
   ],
   "source": [
    "a = [\"apple\", \"banana\", \"cherry\"]\n",
    "b = [\"Ford\", \"BMW\", \"Volvo\"]\n",
    "a.append(b)\n",
    "print(a)"
   ],
   "metadata": {
    "collapsed": false,
    "ExecuteTime": {
     "end_time": "2024-01-02T16:21:24.091992100Z",
     "start_time": "2024-01-02T16:21:23.980353Z"
    }
   },
   "id": "9a6632bf9dc0d6be",
   "execution_count": 69
  },
  {
   "cell_type": "markdown",
   "source": [
    "### Função extend()\n",
    "\n",
    "Acrescenta elementos de um iterável(lista, conjunto, tupla, etc.) no final da lista atual.\n",
    "\n",
    "Sintaxe: `list.extend(iterable)`"
   ],
   "metadata": {
    "collapsed": false
   },
   "id": "482f60ef649d3e66"
  },
  {
   "cell_type": "code",
   "outputs": [],
   "source": [
    "fruits = ['apple', 'banana', 'cherry']\n",
    "points = (1, 4, 5, 9)\n",
    "fruits.extend(points)"
   ],
   "metadata": {
    "collapsed": false,
    "ExecuteTime": {
     "end_time": "2024-01-02T16:21:24.111991100Z",
     "start_time": "2024-01-02T16:21:24.025996800Z"
    }
   },
   "id": "24a98c698b3ce11",
   "execution_count": 70
  },
  {
   "cell_type": "markdown",
   "source": [
    "## Remover item especificado\n",
    "\n",
    "### Função remove()\n",
    "\n",
    "O método `remove()` remove o item especificado. Se houver mais de um item com o valor especificado, o método `remove()` remove somente a primeira ocorrência."
   ],
   "metadata": {
    "collapsed": false
   },
   "id": "dee53f3cae5d45f1"
  },
  {
   "cell_type": "code",
   "outputs": [
    {
     "name": "stdout",
     "output_type": "stream",
     "text": [
      "['apple', 'cherry', 'banana', 'kiwi']\n"
     ]
    }
   ],
   "source": [
    "thislist = [\"apple\", \"banana\", \"cherry\", \"banana\", \"kiwi\"]\n",
    "thislist.remove(\"banana\")\n",
    "print(thislist)"
   ],
   "metadata": {
    "collapsed": false,
    "ExecuteTime": {
     "end_time": "2024-01-02T17:26:00.224771600Z",
     "start_time": "2024-01-02T17:26:00.158661500Z"
    }
   },
   "id": "f59605e2069fe8f6",
   "execution_count": 72
  },
  {
   "cell_type": "markdown",
   "source": [
    "### Função pop()\n",
    "\n",
    "O método `pop()` remove o índice especificado. Se você não especificar o índice, o método `pop()` removerá o último item."
   ],
   "metadata": {
    "collapsed": false
   },
   "id": "e87b9491a3bc30c1"
  },
  {
   "cell_type": "code",
   "outputs": [
    {
     "name": "stdout",
     "output_type": "stream",
     "text": [
      "['apple', 'cherry']\n"
     ]
    }
   ],
   "source": [
    "thislist = [\"apple\", \"banana\", \"cherry\"]\n",
    "thislist.pop(1)\n",
    "print(thislist)"
   ],
   "metadata": {
    "collapsed": false,
    "ExecuteTime": {
     "end_time": "2024-01-02T17:28:37.852050300Z",
     "start_time": "2024-01-02T17:28:37.828731200Z"
    }
   },
   "id": "39afe6c10a8d475a",
   "execution_count": 73
  },
  {
   "cell_type": "code",
   "outputs": [
    {
     "name": "stdout",
     "output_type": "stream",
     "text": [
      "['banana', 'cherry']\n"
     ]
    }
   ],
   "source": [
    "thislist = [\"apple\", \"banana\", \"cherry\"]\n",
    "del thislist[0]     # a palavra-chave del também remove o índice especificado\n",
    "print(thislist)\n",
    "\n",
    "del thislist        # também pode excluir a lista completamente"
   ],
   "metadata": {
    "collapsed": false,
    "ExecuteTime": {
     "end_time": "2024-01-02T17:29:52.290382900Z",
     "start_time": "2024-01-02T17:29:52.272334200Z"
    }
   },
   "id": "c00d435c1ec8ec96",
   "execution_count": 74
  },
  {
   "cell_type": "markdown",
   "source": [
    "### Função clear()\n",
    "\n",
    "O método `clear()` esvazia a lista."
   ],
   "metadata": {
    "collapsed": false
   },
   "id": "c4acf6fb4b373f85"
  },
  {
   "cell_type": "code",
   "outputs": [
    {
     "name": "stdout",
     "output_type": "stream",
     "text": [
      "[]\n"
     ]
    }
   ],
   "source": [
    "thislist = [\"apple\", \"banana\", \"cherry\"]\n",
    "thislist.clear()\n",
    "print(thislist)"
   ],
   "metadata": {
    "collapsed": false,
    "ExecuteTime": {
     "end_time": "2024-01-02T17:30:48.269506600Z",
     "start_time": "2024-01-02T17:30:48.201208500Z"
    }
   },
   "id": "957e38671d2511d7",
   "execution_count": 75
  },
  {
   "cell_type": "code",
   "outputs": [],
   "source": [],
   "metadata": {
    "collapsed": false
   },
   "id": "508d7eef29aed758"
  }
 ],
 "metadata": {
  "kernelspec": {
   "display_name": "Python 3",
   "language": "python",
   "name": "python3"
  },
  "language_info": {
   "codemirror_mode": {
    "name": "ipython",
    "version": 2
   },
   "file_extension": ".py",
   "mimetype": "text/x-python",
   "name": "python",
   "nbconvert_exporter": "python",
   "pygments_lexer": "ipython2",
   "version": "2.7.6"
  }
 },
 "nbformat": 4,
 "nbformat_minor": 5
}
