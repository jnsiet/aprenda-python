{
 "cells": [
  {
   "cell_type": "markdown",
   "source": [
    "# Listas\n",
    "\n",
    "As listas são usadas para armazenar vários itens em uma única variável. É um dos 4 tipos de dados integrados em Python usados para armazenar coleções de dados.\n",
    "\n",
    "Os itens da lista são **ordenados**(os itens têm uma ordem definida e essa ordem não mudará), **alteráveis**(podemos alterar, adicionar e remover itens de uma lista) e permitem **duplicatas**(podem ter itens com o mesmo valor).\n"
   ],
   "metadata": {
    "collapsed": false
   },
   "id": "1e3ea5d7c57fd470"
  },
  {
   "cell_type": "code",
   "execution_count": 12,
   "id": "initial_id",
   "metadata": {
    "collapsed": true,
    "ExecuteTime": {
     "end_time": "2024-01-02T15:40:42.564416100Z",
     "start_time": "2024-01-02T15:40:42.546417800Z"
    }
   },
   "outputs": [
    {
     "name": "stdout",
     "output_type": "stream",
     "text": [
      "['apple', 'banana', 'cherry', 'apple', 'cherry']\n",
      "5\n",
      "<class 'list'>\n"
     ]
    }
   ],
   "source": [
    "thislist = [\"apple\", \"banana\", \"cherry\", \"apple\", \"cherry\"]\n",
    "print(thislist)\n",
    "\n",
    "print(len(thislist))    # para determinar quantos itens uma lista possui, use a função len()\n",
    "\n",
    "print(type(thislist))   # thislist é uma instância(objeto) da classe list"
   ]
  },
  {
   "cell_type": "markdown",
   "source": [
    "## Tipos de Dados em uma Lista\n",
    "\n",
    "Os itens da lista podem ser de qualquer tipo de dados além de, pode conter diferentes tipos de dados."
   ],
   "metadata": {
    "collapsed": false
   },
   "id": "909244b59b8c57d"
  },
  {
   "cell_type": "code",
   "outputs": [],
   "source": [
    "list1 = [\"abc\", 34, True, 40, \"male\"]\n",
    "\n",
    "list2 = [1, 5, 7, 9, 3]"
   ],
   "metadata": {
    "collapsed": false,
    "ExecuteTime": {
     "end_time": "2024-01-02T15:40:42.612889100Z",
     "start_time": "2024-01-02T15:40:42.575419300Z"
    }
   },
   "id": "923d73a0b0ce9e38",
   "execution_count": 13
  },
  {
   "cell_type": "markdown",
   "source": [
    "## O Construtor list()\n",
    "\n",
    "Também é possível usar o construtor `list()` ao criar uma nova lista."
   ],
   "metadata": {
    "collapsed": false
   },
   "id": "72e7a23746c66306"
  },
  {
   "cell_type": "code",
   "outputs": [
    {
     "name": "stdout",
     "output_type": "stream",
     "text": [
      "['apple', 'banana', 'cherry']\n"
     ]
    }
   ],
   "source": [
    "thislist = list((\"apple\", \"banana\", \"cherry\")) # note the double round-brackets\n",
    "print(thislist)"
   ],
   "metadata": {
    "collapsed": false,
    "ExecuteTime": {
     "end_time": "2024-01-02T15:40:42.613890200Z",
     "start_time": "2024-01-02T15:40:42.594489800Z"
    }
   },
   "id": "296b9322f6db49f",
   "execution_count": 14
  }
 ],
 "metadata": {
  "kernelspec": {
   "display_name": "Python 3",
   "language": "python",
   "name": "python3"
  },
  "language_info": {
   "codemirror_mode": {
    "name": "ipython",
    "version": 2
   },
   "file_extension": ".py",
   "mimetype": "text/x-python",
   "name": "python",
   "nbconvert_exporter": "python",
   "pygments_lexer": "ipython2",
   "version": "2.7.6"
  }
 },
 "nbformat": 4,
 "nbformat_minor": 5
}
