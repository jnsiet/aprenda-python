{
 "cells": [
  {
   "cell_type": "markdown",
   "source": [
    "# Listas\n",
    "\n",
    "As listas são usadas para armazenar vários itens em uma única variável. É um dos 4 tipos de dados integrados em Python usados para armazenar coleções de dados.\n",
    "\n",
    "Os itens da lista são **ordenados**(os itens têm uma ordem definida e essa ordem não mudará), **alteráveis**(podemos alterar, adicionar e remover itens de uma lista) e permitem **duplicatas**(podem ter itens com o mesmo valor).\n"
   ],
   "metadata": {
    "collapsed": false
   },
   "id": "1e3ea5d7c57fd470"
  },
  {
   "cell_type": "code",
   "execution_count": 262,
   "id": "initial_id",
   "metadata": {
    "collapsed": true,
    "ExecuteTime": {
     "end_time": "2024-01-02T18:26:12.966476300Z",
     "start_time": "2024-01-02T18:26:12.598176300Z"
    }
   },
   "outputs": [
    {
     "name": "stdout",
     "output_type": "stream",
     "text": [
      "['apple', 'banana', 'cherry', 'apple', 'cherry']\n",
      "5\n",
      "<class 'list'>\n"
     ]
    }
   ],
   "source": [
    "thislist = [\"apple\", \"banana\", \"cherry\", \"apple\", \"cherry\"]\n",
    "print(thislist)\n",
    "\n",
    "print(len(thislist))    # para determinar quantos itens uma lista possui, use a função len()\n",
    "\n",
    "print(type(thislist))   # thislist é uma instância(objeto) da classe list"
   ]
  },
  {
   "cell_type": "markdown",
   "source": [
    "## Tipos de Dados em uma Lista\n",
    "\n",
    "Os itens da lista podem ser de qualquer tipo de dados além de, pode conter diferentes tipos de dados."
   ],
   "metadata": {
    "collapsed": false
   },
   "id": "909244b59b8c57d"
  },
  {
   "cell_type": "code",
   "outputs": [],
   "source": [
    "list1 = [\"abc\", 34, True, 40, \"male\"]\n",
    "\n",
    "list2 = [1, 5, 7, 9, 3]"
   ],
   "metadata": {
    "collapsed": false,
    "ExecuteTime": {
     "end_time": "2024-01-02T18:26:13.129324600Z",
     "start_time": "2024-01-02T18:26:12.975468Z"
    }
   },
   "id": "923d73a0b0ce9e38",
   "execution_count": 263
  },
  {
   "cell_type": "markdown",
   "source": [
    "## O Construtor list()\n",
    "\n",
    "Também é possível usar o construtor `list()` ao criar uma nova lista."
   ],
   "metadata": {
    "collapsed": false
   },
   "id": "72e7a23746c66306"
  },
  {
   "cell_type": "code",
   "outputs": [
    {
     "name": "stdout",
     "output_type": "stream",
     "text": [
      "['apple', 'banana', 'cherry']\n"
     ]
    }
   ],
   "source": [
    "thislist = list((\"apple\", \"banana\", \"cherry\")) # note the double round-brackets\n",
    "print(thislist)"
   ],
   "metadata": {
    "collapsed": false,
    "ExecuteTime": {
     "end_time": "2024-01-02T18:26:13.241150Z",
     "start_time": "2024-01-02T18:26:13.121208900Z"
    }
   },
   "id": "296b9322f6db49f",
   "execution_count": 264
  },
  {
   "cell_type": "markdown",
   "source": [
    "## Acessando os Itens da Lista\n",
    "\n",
    "Os itens da lista são indexados e você pode acessá-los consultando o número do índice.\n",
    "**Nota:** O primeiro item possui índice 0."
   ],
   "metadata": {
    "collapsed": false
   },
   "id": "897b7efcf1a55d3a"
  },
  {
   "cell_type": "code",
   "outputs": [
    {
     "name": "stdout",
     "output_type": "stream",
     "text": [
      "banana\n"
     ]
    }
   ],
   "source": [
    "thislist = [\"apple\", \"banana\", \"cherry\"]\n",
    "print(thislist[1])"
   ],
   "metadata": {
    "collapsed": false,
    "ExecuteTime": {
     "end_time": "2024-01-02T18:26:13.303389400Z",
     "start_time": "2024-01-02T18:26:13.246155600Z"
    }
   },
   "id": "eff6f4eb6dcc7abc",
   "execution_count": 265
  },
  {
   "cell_type": "markdown",
   "source": [
    "## Indexação Negativa\n",
    "\n",
    "Indexação negativa significa começar do fim. `-1` refere-se ao último item, `-2` refere-se ao penúltimo item etc."
   ],
   "metadata": {
    "collapsed": false
   },
   "id": "815d40f74efec17b"
  },
  {
   "cell_type": "code",
   "outputs": [
    {
     "name": "stdout",
     "output_type": "stream",
     "text": [
      "cherry\n"
     ]
    }
   ],
   "source": [
    "thislist = [\"apple\", \"banana\", \"cherry\"]\n",
    "print(thislist[-1])"
   ],
   "metadata": {
    "collapsed": false,
    "ExecuteTime": {
     "end_time": "2024-01-02T18:26:13.445391800Z",
     "start_time": "2024-01-02T18:26:13.285525200Z"
    }
   },
   "id": "8defd7bb88f80052",
   "execution_count": 266
  },
  {
   "cell_type": "markdown",
   "source": [
    "## Range de Índices\n",
    "\n",
    "A técnica é chamada de fatiamento (slicing). O slicing permite que você crie uma nova lista, string ou tupla a partir de parte de uma lista existente, especificando um intervalo de índices.\n",
    "\n",
    "Essa operação permite delimitar os limites inferior e superior(não incluído) que queremos acessar."
   ],
   "metadata": {
    "collapsed": false
   },
   "id": "3caa4c725a2cef3"
  },
  {
   "cell_type": "code",
   "outputs": [
    {
     "name": "stdout",
     "output_type": "stream",
     "text": [
      "['cherry', 'orange', 'kiwi']\n"
     ]
    }
   ],
   "source": [
    "thislist = [\"apple\", \"banana\", \"cherry\", \"orange\", \"kiwi\", \"melon\", \"mango\"]\n",
    "print(thislist[2:5]) # a pesquisa começará no índice 2 (incluído) e terminará no índice 5 (não incluído)"
   ],
   "metadata": {
    "collapsed": false,
    "ExecuteTime": {
     "end_time": "2024-01-02T18:26:13.525053800Z",
     "start_time": "2024-01-02T18:26:13.396708800Z"
    }
   },
   "id": "16c55803b6f83b84",
   "execution_count": 267
  },
  {
   "cell_type": "code",
   "outputs": [
    {
     "name": "stdout",
     "output_type": "stream",
     "text": [
      "['apple', 'banana', 'cherry', 'orange']\n"
     ]
    }
   ],
   "source": [
    "thislist = [\"apple\", \"banana\", \"cherry\", \"orange\", \"kiwi\", \"melon\", \"mango\"]\n",
    "print(thislist[:4]) # ao omitir o valor inicial, o intervalo começará no primeiro item"
   ],
   "metadata": {
    "collapsed": false,
    "ExecuteTime": {
     "end_time": "2024-01-02T18:26:13.629768900Z",
     "start_time": "2024-01-02T18:26:13.463894200Z"
    }
   },
   "id": "7b4aef33f0a258f7",
   "execution_count": 268
  },
  {
   "cell_type": "code",
   "outputs": [
    {
     "name": "stdout",
     "output_type": "stream",
     "text": [
      "['cherry', 'orange', 'kiwi', 'melon', 'mango']\n"
     ]
    }
   ],
   "source": [
    "thislist = [\"apple\", \"banana\", \"cherry\", \"orange\", \"kiwi\", \"melon\", \"mango\"]\n",
    "print(thislist[2:]) # ao omitir o valor final, o intervalo irá para o final da lista"
   ],
   "metadata": {
    "collapsed": false,
    "ExecuteTime": {
     "end_time": "2024-01-02T18:26:13.680650100Z",
     "start_time": "2024-01-02T18:26:13.532462300Z"
    }
   },
   "id": "8703ec9f0546ccf5",
   "execution_count": 269
  },
  {
   "cell_type": "markdown",
   "source": [
    "### Range de Índices Negativos\n",
    "\n",
    "Especifique índices negativos se desejar iniciar a pesquisa do final da lista."
   ],
   "metadata": {
    "collapsed": false
   },
   "id": "955f0e7aedfc9d7a"
  },
  {
   "cell_type": "code",
   "outputs": [
    {
     "name": "stdout",
     "output_type": "stream",
     "text": [
      "['orange', 'kiwi', 'melon']\n"
     ]
    }
   ],
   "source": [
    "thislist = [\"apple\", \"banana\", \"cherry\", \"orange\", \"kiwi\", \"melon\", \"mango\"]\n",
    "print(thislist[-4:-1])"
   ],
   "metadata": {
    "collapsed": false,
    "ExecuteTime": {
     "end_time": "2024-01-02T18:26:13.792949600Z",
     "start_time": "2024-01-02T18:26:13.687658Z"
    }
   },
   "id": "5acc5f57ca17e319",
   "execution_count": 270
  },
  {
   "cell_type": "code",
   "outputs": [
    {
     "name": "stdout",
     "output_type": "stream",
     "text": [
      "['orange', 'kiwi', 'melon', 'mango']\n"
     ]
    }
   ],
   "source": [
    "thislist = [\"apple\", \"banana\", \"cherry\", \"orange\", \"kiwi\", \"melon\", \"mango\"]\n",
    "print(thislist[-4:])"
   ],
   "metadata": {
    "collapsed": false,
    "ExecuteTime": {
     "end_time": "2024-01-02T18:26:13.865041800Z",
     "start_time": "2024-01-02T18:26:13.775752200Z"
    }
   },
   "id": "876c569f92663c45",
   "execution_count": 271
  },
  {
   "cell_type": "code",
   "outputs": [
    {
     "name": "stdout",
     "output_type": "stream",
     "text": [
      "['apple', 'banana', 'cherry', 'orange', 'kiwi']\n"
     ]
    }
   ],
   "source": [
    "thislist = [\"apple\", \"banana\", \"cherry\", \"orange\", \"kiwi\", \"melon\", \"mango\"]\n",
    "print(thislist[:-2])"
   ],
   "metadata": {
    "collapsed": false,
    "ExecuteTime": {
     "end_time": "2024-01-02T18:26:13.930750200Z",
     "start_time": "2024-01-02T18:26:13.821939800Z"
    }
   },
   "id": "866a0fb60edeea02",
   "execution_count": 272
  },
  {
   "cell_type": "markdown",
   "source": [
    "## Alterar Valor do Item\n",
    "\n",
    "Para alterar o valor de um item específico, consulte o número do índice."
   ],
   "metadata": {
    "collapsed": false
   },
   "id": "d152d060d6eec297"
  },
  {
   "cell_type": "code",
   "outputs": [
    {
     "name": "stdout",
     "output_type": "stream",
     "text": [
      "['apple', 'blackcurrant', 'cherry']\n"
     ]
    }
   ],
   "source": [
    "thislist = [\"apple\", \"banana\", \"cherry\"]\n",
    "thislist[1] = \"blackcurrant\"\n",
    "print(thislist)"
   ],
   "metadata": {
    "collapsed": false,
    "ExecuteTime": {
     "end_time": "2024-01-02T18:26:14.061395700Z",
     "start_time": "2024-01-02T18:26:13.910032700Z"
    }
   },
   "id": "577582c4f8927bad",
   "execution_count": 273
  },
  {
   "cell_type": "markdown",
   "source": [
    "## Alterar um Intervalo de Valores\n",
    "\n",
    "Para alterar o valor dos itens dentro de um intervalo específico, defina uma lista com os novos valores e consulte o intervalo de números de índice onde deseja inserir os novos valores."
   ],
   "metadata": {
    "collapsed": false
   },
   "id": "2995840d1edf17a0"
  },
  {
   "cell_type": "code",
   "outputs": [
    {
     "name": "stdout",
     "output_type": "stream",
     "text": [
      "['apple', 'blackcurrant', 'watermelon', 'orange', 'kiwi', 'mango']\n"
     ]
    }
   ],
   "source": [
    "thislist = [\"apple\", \"banana\", \"cherry\", \"orange\", \"kiwi\", \"mango\"]\n",
    "thislist[1:3] = [\"blackcurrant\", \"watermelon\"]\n",
    "print(thislist)"
   ],
   "metadata": {
    "collapsed": false,
    "ExecuteTime": {
     "end_time": "2024-01-02T18:26:14.196627300Z",
     "start_time": "2024-01-02T18:26:14.050369800Z"
    }
   },
   "id": "fa3052033703a7b0",
   "execution_count": 274
  },
  {
   "cell_type": "markdown",
   "source": [
    "Se você inserir mais itens do que substitui, os novos itens serão inseridos onde você especificou e os itens restantes serão movidos de acordo."
   ],
   "metadata": {
    "collapsed": false
   },
   "id": "d97499b7042d2626"
  },
  {
   "cell_type": "code",
   "outputs": [
    {
     "name": "stdout",
     "output_type": "stream",
     "text": [
      "['apple', 'blackcurrant', 'watermelon', 'cherry']\n"
     ]
    }
   ],
   "source": [
    "thislist = [\"apple\", \"banana\", \"cherry\"]\n",
    "thislist[1:2] = [\"blackcurrant\", \"watermelon\"]\n",
    "print(thislist)"
   ],
   "metadata": {
    "collapsed": false,
    "ExecuteTime": {
     "end_time": "2024-01-02T18:26:14.270417600Z",
     "start_time": "2024-01-02T18:26:14.117694200Z"
    }
   },
   "id": "b26e061e6c417be0",
   "execution_count": 275
  },
  {
   "cell_type": "markdown",
   "source": [
    "Se você inserir menos itens do que substitui, os novos itens serão inseridos onde você especificou e os itens restantes serão movidos de acordo."
   ],
   "metadata": {
    "collapsed": false
   },
   "id": "e5d41608a8d3570b"
  },
  {
   "cell_type": "code",
   "outputs": [
    {
     "name": "stdout",
     "output_type": "stream",
     "text": [
      "['apple', 'watermelon', 'kiwi']\n"
     ]
    }
   ],
   "source": [
    "thislist = [\"apple\", \"banana\", \"cherry\", \"orange\", \"kiwi\"]\n",
    "thislist[1:4] = [\"watermelon\"]  # thislist[1:4] = [\"banana\", \"cherry\", \"orange\"]\n",
    "print(thislist)"
   ],
   "metadata": {
    "collapsed": false,
    "ExecuteTime": {
     "end_time": "2024-01-02T18:26:14.479269800Z",
     "start_time": "2024-01-02T18:26:14.258412600Z"
    }
   },
   "id": "7fc9387292482956",
   "execution_count": 276
  },
  {
   "cell_type": "markdown",
   "source": [
    "## Anexar Itens\n",
    "\n",
    "### Função insert()\n",
    "\n",
    "Para inserir um novo item da lista, sem substituir nenhum dos valores existentes, podemos usar o método insert().\n",
    "\n",
    "Sua sintaxe é: `list.insert(pos, element)`."
   ],
   "metadata": {
    "collapsed": false
   },
   "id": "16d5055ae97794c1"
  },
  {
   "cell_type": "code",
   "outputs": [
    {
     "name": "stdout",
     "output_type": "stream",
     "text": [
      "['apple', 'banana', 'watermelon', 'cherry']\n"
     ]
    }
   ],
   "source": [
    "thislist = [\"apple\", \"banana\", \"cherry\"]\n",
    "thislist.insert(2, \"watermelon\")\n",
    "print(thislist)"
   ],
   "metadata": {
    "collapsed": false,
    "ExecuteTime": {
     "end_time": "2024-01-02T18:26:14.606598200Z",
     "start_time": "2024-01-02T18:26:14.405941500Z"
    }
   },
   "id": "baa4e3ee6fc1334",
   "execution_count": 277
  },
  {
   "cell_type": "markdown",
   "source": [
    "### Função append()\n",
    "\n",
    "Adiciona um item ao final da lista.\n",
    "\n",
    "Sintaxe: `list.append(element)`"
   ],
   "metadata": {
    "collapsed": false
   },
   "id": "297b6df7faf19c24"
  },
  {
   "cell_type": "code",
   "outputs": [
    {
     "name": "stdout",
     "output_type": "stream",
     "text": [
      "['apple', 'banana', 'cherry', 'orange']\n"
     ]
    }
   ],
   "source": [
    "thislist = [\"apple\", \"banana\", \"cherry\"]\n",
    "thislist.append(\"orange\")\n",
    "print(thislist)"
   ],
   "metadata": {
    "collapsed": false,
    "ExecuteTime": {
     "end_time": "2024-01-02T18:26:14.655193Z",
     "start_time": "2024-01-02T18:26:14.520227100Z"
    }
   },
   "id": "ab87fe54ce970a6b",
   "execution_count": 278
  },
  {
   "cell_type": "code",
   "outputs": [
    {
     "name": "stdout",
     "output_type": "stream",
     "text": [
      "['apple', 'banana', 'cherry', ['Ford', 'BMW', 'Volvo']]\n"
     ]
    }
   ],
   "source": [
    "a = [\"apple\", \"banana\", \"cherry\"]\n",
    "b = [\"Ford\", \"BMW\", \"Volvo\"]\n",
    "a.append(b)\n",
    "print(a)"
   ],
   "metadata": {
    "collapsed": false,
    "ExecuteTime": {
     "end_time": "2024-01-02T18:26:14.785193700Z",
     "start_time": "2024-01-02T18:26:14.649735900Z"
    }
   },
   "id": "9a6632bf9dc0d6be",
   "execution_count": 279
  },
  {
   "cell_type": "markdown",
   "source": [
    "### Função extend()\n",
    "\n",
    "Acrescenta elementos de um iterável(lista, conjunto, tupla, etc.) no final da lista atual.\n",
    "\n",
    "Sintaxe: `list.extend(iterable)`"
   ],
   "metadata": {
    "collapsed": false
   },
   "id": "482f60ef649d3e66"
  },
  {
   "cell_type": "code",
   "outputs": [],
   "source": [
    "fruits = ['apple', 'banana', 'cherry']\n",
    "points = (1, 4, 5, 9)\n",
    "fruits.extend(points)"
   ],
   "metadata": {
    "collapsed": false,
    "ExecuteTime": {
     "end_time": "2024-01-02T18:26:14.860935100Z",
     "start_time": "2024-01-02T18:26:14.774140900Z"
    }
   },
   "id": "24a98c698b3ce11",
   "execution_count": 280
  },
  {
   "cell_type": "markdown",
   "source": [
    "## Remover Itens\n",
    "\n",
    "### Função remove()\n",
    "\n",
    "O método `remove()` remove o item especificado. Se houver mais de um item com o valor especificado, o método `remove()` remove somente a primeira ocorrência."
   ],
   "metadata": {
    "collapsed": false
   },
   "id": "dee53f3cae5d45f1"
  },
  {
   "cell_type": "code",
   "outputs": [
    {
     "name": "stdout",
     "output_type": "stream",
     "text": [
      "['apple', 'cherry', 'banana', 'kiwi']\n"
     ]
    }
   ],
   "source": [
    "thislist = [\"apple\", \"banana\", \"cherry\", \"banana\", \"kiwi\"]\n",
    "thislist.remove(\"banana\")\n",
    "print(thislist)"
   ],
   "metadata": {
    "collapsed": false,
    "ExecuteTime": {
     "end_time": "2024-01-02T18:26:14.888199900Z",
     "start_time": "2024-01-02T18:26:14.824558300Z"
    }
   },
   "id": "f59605e2069fe8f6",
   "execution_count": 281
  },
  {
   "cell_type": "markdown",
   "source": [
    "### Função pop()\n",
    "\n",
    "O método `pop()` remove o índice especificado. Se você não especificar o índice, o método `pop()` removerá o último item."
   ],
   "metadata": {
    "collapsed": false
   },
   "id": "e87b9491a3bc30c1"
  },
  {
   "cell_type": "code",
   "outputs": [
    {
     "name": "stdout",
     "output_type": "stream",
     "text": [
      "['apple', 'cherry']\n"
     ]
    }
   ],
   "source": [
    "thislist = [\"apple\", \"banana\", \"cherry\"]\n",
    "thislist.pop(1)\n",
    "print(thislist)"
   ],
   "metadata": {
    "collapsed": false,
    "ExecuteTime": {
     "end_time": "2024-01-02T18:26:14.961570300Z",
     "start_time": "2024-01-02T18:26:14.887196400Z"
    }
   },
   "id": "39afe6c10a8d475a",
   "execution_count": 282
  },
  {
   "cell_type": "code",
   "outputs": [
    {
     "name": "stdout",
     "output_type": "stream",
     "text": [
      "['banana', 'cherry']\n"
     ]
    }
   ],
   "source": [
    "thislist = [\"apple\", \"banana\", \"cherry\"]\n",
    "del thislist[0]     # a palavra-chave del também remove o índice especificado\n",
    "print(thislist)\n",
    "\n",
    "del thislist        # também pode excluir a lista completamente"
   ],
   "metadata": {
    "collapsed": false,
    "ExecuteTime": {
     "end_time": "2024-01-02T18:26:14.999938300Z",
     "start_time": "2024-01-02T18:26:14.970570900Z"
    }
   },
   "id": "c00d435c1ec8ec96",
   "execution_count": 283
  },
  {
   "cell_type": "markdown",
   "source": [
    "### Função clear()\n",
    "\n",
    "O método `clear()` esvazia a lista."
   ],
   "metadata": {
    "collapsed": false
   },
   "id": "c4acf6fb4b373f85"
  },
  {
   "cell_type": "code",
   "outputs": [
    {
     "name": "stdout",
     "output_type": "stream",
     "text": [
      "[]\n"
     ]
    }
   ],
   "source": [
    "thislist = [\"apple\", \"banana\", \"cherry\"]\n",
    "thislist.clear()\n",
    "print(thislist)"
   ],
   "metadata": {
    "collapsed": false,
    "ExecuteTime": {
     "end_time": "2024-01-02T18:26:15.079908600Z",
     "start_time": "2024-01-02T18:26:15.002937100Z"
    }
   },
   "id": "957e38671d2511d7",
   "execution_count": 284
  },
  {
   "cell_type": "markdown",
   "source": [
    "## Copiando Listas\n",
    "\n",
    "Você não pode copiar uma lista simplesmente digitando `lista2 = lista1`, porque `lista2` será apenas uma referência(cópia por referência) à `lista1`, e as alterações feitas em uma serão automaticamente feitas também na outra.\n",
    "\n",
    "Existem maneiras de fazer uma cópia, uma maneira é usar o método interno `copy()`."
   ],
   "metadata": {
    "collapsed": false
   },
   "id": "2b83605ea3a6e2e8"
  },
  {
   "cell_type": "code",
   "outputs": [
    {
     "name": "stdout",
     "output_type": "stream",
     "text": [
      "0x1c08a10a7c0\n",
      "0x1c08a10a7c0\n",
      "0x1c08a0f1dc0\n",
      "0x1c08a137080\n"
     ]
    }
   ],
   "source": [
    "list1 = [1, 2, 3]\n",
    "list2 = list1         # jeito errado de copiar listas\n",
    "\n",
    "print(hex(id(list1))) # a função id() fornece o endereço de memória de uma variável\n",
    "print(hex(id(list2))) # id() retornará um número de base 10. A função hex() converte em número hexadecimal\n",
    "\n",
    "list3 = list1.copy()\n",
    "print(hex(id(list3)))\n",
    "\n",
    "list4 = list(list1)    # outra maneira de fazer uma cópia é usar o método integrado list()\n",
    "print(hex(id(list4)))"
   ],
   "metadata": {
    "collapsed": false,
    "ExecuteTime": {
     "end_time": "2024-01-02T18:26:15.132923300Z",
     "start_time": "2024-01-02T18:26:15.078908600Z"
    }
   },
   "id": "91ac8e05134c6647",
   "execution_count": 285
  },
  {
   "cell_type": "markdown",
   "source": [
    "## Ordenando Itens"
   ],
   "metadata": {
    "collapsed": false
   },
   "id": "20671a742e597496"
  },
  {
   "cell_type": "code",
   "outputs": [
    {
     "name": "stdout",
     "output_type": "stream",
     "text": [
      "['banana', 'kiwi', 'mango', 'orange', 'pineapple']\n",
      "['pineapple', 'orange', 'mango', 'kiwi', 'banana']\n"
     ]
    }
   ],
   "source": [
    "thislist = [\"orange\", \"mango\", \"kiwi\", \"pineapple\", \"banana\"]\n",
    "thislist.sort()     # sort() classificará a lista alfanumericamente, crescente, por padrão\n",
    "print(thislist)\n",
    "\n",
    "# Para classificar em ordem decrescente, use o argumento de palavra-chave reverse = True\n",
    "thislist.sort(reverse = True)\n",
    "print(thislist)"
   ],
   "metadata": {
    "collapsed": false,
    "ExecuteTime": {
     "end_time": "2024-01-02T18:26:15.164300Z",
     "start_time": "2024-01-02T18:26:15.124907700Z"
    }
   },
   "id": "a2f758a7a1a0f42c",
   "execution_count": 286
  },
  {
   "cell_type": "markdown",
   "source": [
    "### Personalizar função de classificação\n",
    "\n",
    "Você também pode personalizar sua própria função usando a argumento de palavra-chave `key = function`.\n",
    "A função retornará um valor que será usado para ordenar a lista."
   ],
   "metadata": {
    "collapsed": false
   },
   "id": "99919e209ad0cc7e"
  },
  {
   "cell_type": "code",
   "outputs": [
    {
     "name": "stdout",
     "output_type": "stream",
     "text": [
      "[50, 65, 23, 82, 100]\n"
     ]
    }
   ],
   "source": [
    "def myfunc(n):\n",
    "    return abs(n - 50)       #  abs() retorna o valor absoluto (positivo) do número especificado\n",
    "\n",
    "thislist = [100, 50, 65, 82, 23]\n",
    "thislist.sort(key = myfunc)  # classifique a lista com base em quão próximo o número está de 50\n",
    "print(thislist)"
   ],
   "metadata": {
    "collapsed": false,
    "ExecuteTime": {
     "end_time": "2024-01-02T18:26:15.235578600Z",
     "start_time": "2024-01-02T18:26:15.162908200Z"
    }
   },
   "id": "7e904bea1e06eaa3",
   "execution_count": 287
  },
  {
   "cell_type": "markdown",
   "source": [
    "Por padrão, o método `sort()` diferencia maiúsculas de minúsculas, resultando em todas as letras maiúsculas sendo classificadas antes das letras minúsculas."
   ],
   "metadata": {
    "collapsed": false
   },
   "id": "f794d3c86e7bfe71"
  },
  {
   "cell_type": "code",
   "outputs": [
    {
     "name": "stdout",
     "output_type": "stream",
     "text": [
      "['Kiwi', 'Orange', 'banana', 'cherry']\n"
     ]
    }
   ],
   "source": [
    "thislist = [\"banana\", \"Orange\", \"Kiwi\", \"cherry\"]\n",
    "thislist.sort()\n",
    "print(thislist)"
   ],
   "metadata": {
    "collapsed": false,
    "ExecuteTime": {
     "end_time": "2024-01-02T18:26:15.288731400Z",
     "start_time": "2024-01-02T18:26:15.226572900Z"
    }
   },
   "id": "d34d8c2c7bb750e2",
   "execution_count": 288
  },
  {
   "cell_type": "code",
   "outputs": [
    {
     "name": "stdout",
     "output_type": "stream",
     "text": [
      "['banana', 'cherry', 'Kiwi', 'Orange']\n"
     ]
    }
   ],
   "source": [
    "# se você deseja uma função de classificação que não diferencia maiúsculas de minúsculas, use str.lower como função principal\n",
    "\n",
    "thislist = [\"banana\", \"Orange\", \"Kiwi\", \"cherry\"]\n",
    "thislist.sort(key = str.lower)\n",
    "print(thislist)"
   ],
   "metadata": {
    "collapsed": false,
    "ExecuteTime": {
     "end_time": "2024-01-02T18:26:15.332036200Z",
     "start_time": "2024-01-02T18:26:15.257572800Z"
    }
   },
   "id": "4d737d1fa7339de3",
   "execution_count": 289
  },
  {
   "cell_type": "markdown",
   "source": [
    "### Invertendo a Lista\n",
    "\n",
    "O método `reverse()` inverte a ordem de atual da lista."
   ],
   "metadata": {
    "collapsed": false
   },
   "id": "af4840c6998737cf"
  },
  {
   "cell_type": "code",
   "outputs": [
    {
     "name": "stdout",
     "output_type": "stream",
     "text": [
      "['cherry', 'Kiwi', 'Orange', 'banana']\n"
     ]
    }
   ],
   "source": [
    "thislist = [\"banana\", \"Orange\", \"Kiwi\", \"cherry\"]\n",
    "thislist.reverse()\n",
    "print(thislist)"
   ],
   "metadata": {
    "collapsed": false,
    "ExecuteTime": {
     "end_time": "2024-01-02T18:26:15.418263900Z",
     "start_time": "2024-01-02T18:26:15.303256800Z"
    }
   },
   "id": "53a2fb13e1428160",
   "execution_count": 290
  }
 ],
 "metadata": {
  "kernelspec": {
   "display_name": "Python 3",
   "language": "python",
   "name": "python3"
  },
  "language_info": {
   "codemirror_mode": {
    "name": "ipython",
    "version": 2
   },
   "file_extension": ".py",
   "mimetype": "text/x-python",
   "name": "python",
   "nbconvert_exporter": "python",
   "pygments_lexer": "ipython2",
   "version": "2.7.6"
  }
 },
 "nbformat": 4,
 "nbformat_minor": 5
}
