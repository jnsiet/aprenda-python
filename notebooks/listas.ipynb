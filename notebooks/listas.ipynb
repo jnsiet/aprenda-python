{
 "cells": [
  {
   "cell_type": "markdown",
   "source": [
    "# Listas\n",
    "\n",
    "As listas são usadas para armazenar vários itens em uma única variável. É um dos 4 tipos de dados integrados em Python usados para armazenar coleções de dados.\n",
    "\n",
    "Os itens da lista são **ordenados**(os itens têm uma ordem definida e essa ordem não mudará), **alteráveis**(podemos alterar, adicionar e remover itens de uma lista) e permitem **duplicatas**(podem ter itens com o mesmo valor).\n"
   ],
   "metadata": {
    "collapsed": false
   },
   "id": "1e3ea5d7c57fd470"
  },
  {
   "cell_type": "code",
   "execution_count": 26,
   "id": "initial_id",
   "metadata": {
    "collapsed": true,
    "ExecuteTime": {
     "end_time": "2024-01-02T15:57:57.726586800Z",
     "start_time": "2024-01-02T15:57:57.647300300Z"
    }
   },
   "outputs": [
    {
     "name": "stdout",
     "output_type": "stream",
     "text": [
      "['apple', 'banana', 'cherry', 'apple', 'cherry']\n",
      "5\n",
      "<class 'list'>\n"
     ]
    }
   ],
   "source": [
    "thislist = [\"apple\", \"banana\", \"cherry\", \"apple\", \"cherry\"]\n",
    "print(thislist)\n",
    "\n",
    "print(len(thislist))    # para determinar quantos itens uma lista possui, use a função len()\n",
    "\n",
    "print(type(thislist))   # thislist é uma instância(objeto) da classe list"
   ]
  },
  {
   "cell_type": "markdown",
   "source": [
    "## Tipos de Dados em uma Lista\n",
    "\n",
    "Os itens da lista podem ser de qualquer tipo de dados além de, pode conter diferentes tipos de dados."
   ],
   "metadata": {
    "collapsed": false
   },
   "id": "909244b59b8c57d"
  },
  {
   "cell_type": "code",
   "outputs": [],
   "source": [
    "list1 = [\"abc\", 34, True, 40, \"male\"]\n",
    "\n",
    "list2 = [1, 5, 7, 9, 3]"
   ],
   "metadata": {
    "collapsed": false,
    "ExecuteTime": {
     "end_time": "2024-01-02T15:57:57.744588Z",
     "start_time": "2024-01-02T15:57:57.715452600Z"
    }
   },
   "id": "923d73a0b0ce9e38",
   "execution_count": 27
  },
  {
   "cell_type": "markdown",
   "source": [
    "## O Construtor list()\n",
    "\n",
    "Também é possível usar o construtor `list()` ao criar uma nova lista."
   ],
   "metadata": {
    "collapsed": false
   },
   "id": "72e7a23746c66306"
  },
  {
   "cell_type": "code",
   "outputs": [
    {
     "name": "stdout",
     "output_type": "stream",
     "text": [
      "['apple', 'banana', 'cherry']\n"
     ]
    }
   ],
   "source": [
    "thislist = list((\"apple\", \"banana\", \"cherry\")) # note the double round-brackets\n",
    "print(thislist)"
   ],
   "metadata": {
    "collapsed": false,
    "ExecuteTime": {
     "end_time": "2024-01-02T15:57:57.787813300Z",
     "start_time": "2024-01-02T15:57:57.739591400Z"
    }
   },
   "id": "296b9322f6db49f",
   "execution_count": 28
  },
  {
   "cell_type": "markdown",
   "source": [
    "## Acessando os Itens da Lista\n",
    "\n",
    "Os itens da lista são indexados e você pode acessá-los consultando o número do índice.\n",
    "**Nota:** O primeiro item possui índice 0."
   ],
   "metadata": {
    "collapsed": false
   },
   "id": "897b7efcf1a55d3a"
  },
  {
   "cell_type": "code",
   "outputs": [
    {
     "name": "stdout",
     "output_type": "stream",
     "text": [
      "banana\n"
     ]
    }
   ],
   "source": [
    "thislist = [\"apple\", \"banana\", \"cherry\"]\n",
    "print(thislist[1])"
   ],
   "metadata": {
    "collapsed": false,
    "ExecuteTime": {
     "end_time": "2024-01-02T15:57:57.809899100Z",
     "start_time": "2024-01-02T15:57:57.769589100Z"
    }
   },
   "id": "eff6f4eb6dcc7abc",
   "execution_count": 29
  },
  {
   "cell_type": "markdown",
   "source": [
    "## Indexação Negativa\n",
    "\n",
    "Indexação negativa significa começar do fim. `-1` refere-se ao último item, `-2` refere-se ao penúltimo item etc."
   ],
   "metadata": {
    "collapsed": false
   },
   "id": "815d40f74efec17b"
  },
  {
   "cell_type": "code",
   "outputs": [
    {
     "name": "stdout",
     "output_type": "stream",
     "text": [
      "cherry\n"
     ]
    }
   ],
   "source": [
    "thislist = [\"apple\", \"banana\", \"cherry\"]\n",
    "print(thislist[-1])"
   ],
   "metadata": {
    "collapsed": false,
    "ExecuteTime": {
     "end_time": "2024-01-02T15:57:57.877214500Z",
     "start_time": "2024-01-02T15:57:57.800896500Z"
    }
   },
   "id": "8defd7bb88f80052",
   "execution_count": 30
  },
  {
   "cell_type": "markdown",
   "source": [
    "## Range de Índices\n",
    "\n",
    "A técnica é chamada de fatiamento (slicing). O slicing permite que você crie uma nova lista, string ou tupla a partir de parte de uma lista existente, especificando um intervalo de índices.\n",
    "\n",
    "Essa operação permite delimitar os limites inferior e superior(não incluído) que queremos acessar."
   ],
   "metadata": {
    "collapsed": false
   },
   "id": "3caa4c725a2cef3"
  },
  {
   "cell_type": "code",
   "outputs": [
    {
     "name": "stdout",
     "output_type": "stream",
     "text": [
      "['cherry', 'orange', 'kiwi']\n"
     ]
    }
   ],
   "source": [
    "thislist = [\"apple\", \"banana\", \"cherry\", \"orange\", \"kiwi\", \"melon\", \"mango\"]\n",
    "print(thislist[2:5]) # a pesquisa começará no índice 2 (incluído) e terminará no índice 5 (não incluído)"
   ],
   "metadata": {
    "collapsed": false,
    "ExecuteTime": {
     "end_time": "2024-01-02T15:57:57.898046Z",
     "start_time": "2024-01-02T15:57:57.823897400Z"
    }
   },
   "id": "16c55803b6f83b84",
   "execution_count": 31
  },
  {
   "cell_type": "code",
   "outputs": [
    {
     "name": "stdout",
     "output_type": "stream",
     "text": [
      "['apple', 'banana', 'cherry', 'orange']\n"
     ]
    }
   ],
   "source": [
    "thislist = [\"apple\", \"banana\", \"cherry\", \"orange\", \"kiwi\", \"melon\", \"mango\"]\n",
    "print(thislist[:4]) # ao omitir o valor inicial, o intervalo começará no primeiro item"
   ],
   "metadata": {
    "collapsed": false,
    "ExecuteTime": {
     "end_time": "2024-01-02T15:57:57.978975400Z",
     "start_time": "2024-01-02T15:57:57.887218500Z"
    }
   },
   "id": "7b4aef33f0a258f7",
   "execution_count": 32
  },
  {
   "cell_type": "code",
   "outputs": [
    {
     "name": "stdout",
     "output_type": "stream",
     "text": [
      "['cherry', 'orange', 'kiwi', 'melon', 'mango']\n"
     ]
    }
   ],
   "source": [
    "thislist = [\"apple\", \"banana\", \"cherry\", \"orange\", \"kiwi\", \"melon\", \"mango\"]\n",
    "print(thislist[2:]) # ao omitir o valor final, o intervalo irá para o final da lista"
   ],
   "metadata": {
    "collapsed": false,
    "ExecuteTime": {
     "end_time": "2024-01-02T15:57:58.071854800Z",
     "start_time": "2024-01-02T15:57:57.995082100Z"
    }
   },
   "id": "8703ec9f0546ccf5",
   "execution_count": 33
  },
  {
   "cell_type": "markdown",
   "source": [
    "### Range de Índices Negativos\n",
    "\n",
    "Especifique índices negativos se desejar iniciar a pesquisa do final da lista."
   ],
   "metadata": {
    "collapsed": false
   },
   "id": "955f0e7aedfc9d7a"
  },
  {
   "cell_type": "code",
   "outputs": [
    {
     "name": "stdout",
     "output_type": "stream",
     "text": [
      "['orange', 'kiwi', 'melon']\n"
     ]
    }
   ],
   "source": [
    "thislist = [\"apple\", \"banana\", \"cherry\", \"orange\", \"kiwi\", \"melon\", \"mango\"]\n",
    "print(thislist[-4:-1])"
   ],
   "metadata": {
    "collapsed": false,
    "ExecuteTime": {
     "end_time": "2024-01-02T15:57:58.122642900Z",
     "start_time": "2024-01-02T15:57:58.032320Z"
    }
   },
   "id": "5acc5f57ca17e319",
   "execution_count": 34
  },
  {
   "cell_type": "code",
   "outputs": [
    {
     "name": "stdout",
     "output_type": "stream",
     "text": [
      "['orange', 'kiwi', 'melon', 'mango']\n"
     ]
    }
   ],
   "source": [
    "thislist = [\"apple\", \"banana\", \"cherry\", \"orange\", \"kiwi\", \"melon\", \"mango\"]\n",
    "print(thislist[-4:])"
   ],
   "metadata": {
    "collapsed": false,
    "ExecuteTime": {
     "end_time": "2024-01-02T15:57:58.187577100Z",
     "start_time": "2024-01-02T15:57:58.093870500Z"
    }
   },
   "id": "876c569f92663c45",
   "execution_count": 35
  },
  {
   "cell_type": "code",
   "outputs": [
    {
     "name": "stdout",
     "output_type": "stream",
     "text": [
      "['apple', 'banana', 'cherry', 'orange', 'kiwi']\n"
     ]
    }
   ],
   "source": [
    "thislist = [\"apple\", \"banana\", \"cherry\", \"orange\", \"kiwi\", \"melon\", \"mango\"]\n",
    "print(thislist[:-2])"
   ],
   "metadata": {
    "collapsed": false,
    "ExecuteTime": {
     "end_time": "2024-01-02T15:57:58.201582600Z",
     "start_time": "2024-01-02T15:57:58.135764800Z"
    }
   },
   "id": "866a0fb60edeea02",
   "execution_count": 36
  }
 ],
 "metadata": {
  "kernelspec": {
   "display_name": "Python 3",
   "language": "python",
   "name": "python3"
  },
  "language_info": {
   "codemirror_mode": {
    "name": "ipython",
    "version": 2
   },
   "file_extension": ".py",
   "mimetype": "text/x-python",
   "name": "python",
   "nbconvert_exporter": "python",
   "pygments_lexer": "ipython2",
   "version": "2.7.6"
  }
 },
 "nbformat": 4,
 "nbformat_minor": 5
}
