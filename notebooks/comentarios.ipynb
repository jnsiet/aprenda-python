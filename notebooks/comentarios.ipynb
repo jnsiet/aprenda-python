{
 "cells": [
  {
   "cell_type": "markdown",
   "source": [
    "# Comentários"
   ],
   "metadata": {
    "collapsed": false
   },
   "id": "87124850941e7a39"
  },
  {
   "cell_type": "markdown",
   "source": [
    "Comentários podem ser usados para explicar o código Python e torná-lo mais legível."
   ],
   "metadata": {
    "collapsed": false
   },
   "id": "2d155242550d5227"
  },
  {
   "cell_type": "code",
   "execution_count": 1,
   "id": "initial_id",
   "metadata": {
    "collapsed": true,
    "ExecuteTime": {
     "end_time": "2024-01-01T16:56:22.041298500Z",
     "start_time": "2024-01-01T16:56:22.022297Z"
    }
   },
   "outputs": [
    {
     "name": "stdout",
     "output_type": "stream",
     "text": [
      "Hello, World!\n"
     ]
    }
   ],
   "source": [
    "# This is a comment\n",
    "print(\"Hello, World!\") # Another comment"
   ]
  },
  {
   "cell_type": "markdown",
   "source": [
    "O Python oferece uma maneira de adicionar comentários multilinhas (docstring). Docstrings são usadas para documentar funções, módulos e classes em Python."
   ],
   "metadata": {
    "collapsed": false
   },
   "id": "9eded3d6130daa03"
  },
  {
   "cell_type": "code",
   "outputs": [
    {
     "name": "stdout",
     "output_type": "stream",
     "text": [
      "Hello, World!\n"
     ]
    }
   ],
   "source": [
    "\"\"\"\n",
    "This is a comment\n",
    "written in\n",
    "more than just one line\n",
    "\"\"\"\n",
    "print(\"Hello, World!\")"
   ],
   "metadata": {
    "collapsed": false,
    "ExecuteTime": {
     "end_time": "2024-01-01T16:56:22.120675500Z",
     "start_time": "2024-01-01T16:56:22.047296600Z"
    }
   },
   "id": "772b4b22c4103afe",
   "execution_count": 2
  }
 ],
 "metadata": {
  "kernelspec": {
   "display_name": "Python 3",
   "language": "python",
   "name": "python3"
  },
  "language_info": {
   "codemirror_mode": {
    "name": "ipython",
    "version": 2
   },
   "file_extension": ".py",
   "mimetype": "text/x-python",
   "name": "python",
   "nbconvert_exporter": "python",
   "pygments_lexer": "ipython2",
   "version": "2.7.6"
  }
 },
 "nbformat": 4,
 "nbformat_minor": 5
}
