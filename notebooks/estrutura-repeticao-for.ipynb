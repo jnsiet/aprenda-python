{
 "cells": [
  {
   "cell_type": "markdown",
   "source": [
    "# Estrutura de Repetição For\n",
    "\n",
    "Um loop `for` é usado para iterar uma sequência (que é uma lista, uma tupla, um dicionário, um conjunto ou uma string). Com o loop `for` podemos executar um conjunto de instruções, uma vez para cada item de uma sequência."
   ],
   "metadata": {
    "collapsed": false
   },
   "id": "4701096c8ba481bb"
  },
  {
   "cell_type": "code",
   "execution_count": 24,
   "id": "initial_id",
   "metadata": {
    "collapsed": true,
    "ExecuteTime": {
     "end_time": "2024-01-02T13:52:00.807031Z",
     "start_time": "2024-01-02T13:52:00.774027500Z"
    }
   },
   "outputs": [
    {
     "name": "stdout",
     "output_type": "stream",
     "text": [
      "apple\n",
      "banana\n",
      "cherry\n"
     ]
    }
   ],
   "source": [
    "fruits = [\"apple\", \"banana\", \"cherry\"]\n",
    "for x in fruits:\n",
    "    print(x)"
   ]
  },
  {
   "cell_type": "code",
   "outputs": [
    {
     "name": "stdout",
     "output_type": "stream",
     "text": [
      "b\n",
      "a\n",
      "n\n",
      "a\n",
      "n\n",
      "a\n"
     ]
    }
   ],
   "source": [
    "for x in \"banana\":\n",
    "    print(x)    # strings são objetos iteráveis, elas contêm uma sequência de caracteres"
   ],
   "metadata": {
    "collapsed": false,
    "ExecuteTime": {
     "end_time": "2024-01-02T13:52:00.853214400Z",
     "start_time": "2024-01-02T13:52:00.817029500Z"
    }
   },
   "id": "5591fa08a27a4442",
   "execution_count": 25
  },
  {
   "cell_type": "code",
   "outputs": [
    {
     "name": "stdout",
     "output_type": "stream",
     "text": [
      "red apple\n",
      "red banana\n",
      "red cherry\n",
      "big apple\n",
      "big banana\n",
      "big cherry\n",
      "tasty apple\n",
      "tasty banana\n",
      "tasty cherry\n"
     ]
    }
   ],
   "source": [
    "adj = [\"red\", \"big\", \"tasty\"]\n",
    "fruits = [\"apple\", \"banana\", \"cherry\"]\n",
    "\n",
    "for x in adj:\n",
    "    for y in fruits:    # loop for aninhado\n",
    "        print(x, y)"
   ],
   "metadata": {
    "collapsed": false,
    "ExecuteTime": {
     "end_time": "2024-01-02T13:52:00.898207100Z",
     "start_time": "2024-01-02T13:52:00.862210Z"
    }
   },
   "id": "ae301a13e1983a5f",
   "execution_count": 26
  },
  {
   "cell_type": "markdown",
   "source": [
    "## Break e Continue\n",
    "\n",
    "As instruções `break` e `continue` funcionam exatamente como explicadas em [estrutura-repeticao-while](https://github.com/jnsiet/aprenda-python/blob/a5c5acd456eaaa8456aa995035183307261ea2af/notebooks/estrutura-repeticao-while.ipynb)."
   ],
   "metadata": {
    "collapsed": false
   },
   "id": "280707d7e229248c"
  },
  {
   "cell_type": "code",
   "outputs": [
    {
     "name": "stdout",
     "output_type": "stream",
     "text": [
      "apple\n",
      "banana\n"
     ]
    }
   ],
   "source": [
    "fruits = [\"apple\", \"banana\", \"cherry\"]\n",
    "for x in fruits:\n",
    "    print(x)\n",
    "    if x == \"banana\":\n",
    "        break"
   ],
   "metadata": {
    "collapsed": false,
    "ExecuteTime": {
     "end_time": "2024-01-02T13:52:00.949208200Z",
     "start_time": "2024-01-02T13:52:00.908209800Z"
    }
   },
   "id": "3b4e6e8e8be0dfe5",
   "execution_count": 27
  },
  {
   "cell_type": "code",
   "outputs": [
    {
     "name": "stdout",
     "output_type": "stream",
     "text": [
      "apple\n",
      "cherry\n"
     ]
    }
   ],
   "source": [
    "fruits = [\"apple\", \"banana\", \"cherry\"]\n",
    "for x in fruits:\n",
    "    if x == \"banana\":\n",
    "        continue\n",
    "    print(x)"
   ],
   "metadata": {
    "collapsed": false,
    "ExecuteTime": {
     "end_time": "2024-01-02T13:52:00.995432200Z",
     "start_time": "2024-01-02T13:52:00.961211200Z"
    }
   },
   "id": "39c4e05ede13f97",
   "execution_count": 28
  },
  {
   "cell_type": "markdown",
   "source": [
    "## Função range()\n",
    "\n",
    "Para percorrer um conjunto de códigos um determinado número de vezes, podemos usar a função `range()`. Sua sintaxe é: `range(start, stop, step)`, onde `start` e `step` são opcionais."
   ],
   "metadata": {
    "collapsed": false
   },
   "id": "b6ba4f7d6bdadfea"
  },
  {
   "cell_type": "code",
   "outputs": [
    {
     "name": "stdout",
     "output_type": "stream",
     "text": [
      "0\n",
      "1\n",
      "2\n",
      "3\n",
      "4\n",
      "5\n"
     ]
    }
   ],
   "source": [
    "for x in range(6):\n",
    "    print(x)"
   ],
   "metadata": {
    "collapsed": false,
    "ExecuteTime": {
     "end_time": "2024-01-02T13:52:01.049128800Z",
     "start_time": "2024-01-02T13:52:01.006432800Z"
    }
   },
   "id": "74ca989bc206e24",
   "execution_count": 29
  },
  {
   "cell_type": "code",
   "outputs": [
    {
     "name": "stdout",
     "output_type": "stream",
     "text": [
      "1\n",
      "3\n",
      "5\n",
      "7\n",
      "9\n"
     ]
    }
   ],
   "source": [
    "for x in range(1, 10, 2):\n",
    "    print(x)"
   ],
   "metadata": {
    "collapsed": false,
    "ExecuteTime": {
     "end_time": "2024-01-02T13:52:01.122454800Z",
     "start_time": "2024-01-02T13:52:01.058498100Z"
    }
   },
   "id": "ac1453393e3a3e38",
   "execution_count": 30
  },
  {
   "cell_type": "markdown",
   "source": [
    "## Else\n",
    "\n",
    "A palavra-chave `else` em um loop `for` especifica um bloco de código a ser executado quando o loop terminar.\n",
    "\n",
    "**NOTA:** O bloco `else` não será executado se o loop for interrompido por uma instrução `break`."
   ],
   "metadata": {
    "collapsed": false
   },
   "id": "567311f8a423200b"
  },
  {
   "cell_type": "code",
   "outputs": [
    {
     "name": "stdout",
     "output_type": "stream",
     "text": [
      "0\n",
      "1\n",
      "2\n",
      "3\n",
      "4\n",
      "5\n",
      "Finally finished!\n"
     ]
    }
   ],
   "source": [
    "for x in range(6):\n",
    "    print(x)\n",
    "else:\n",
    "    print(\"Finally finished!\")"
   ],
   "metadata": {
    "collapsed": false,
    "ExecuteTime": {
     "end_time": "2024-01-02T13:52:01.174397200Z",
     "start_time": "2024-01-02T13:52:01.115455700Z"
    }
   },
   "id": "69d937465c762853",
   "execution_count": 31
  }
 ],
 "metadata": {
  "kernelspec": {
   "display_name": "Python 3",
   "language": "python",
   "name": "python3"
  },
  "language_info": {
   "codemirror_mode": {
    "name": "ipython",
    "version": 2
   },
   "file_extension": ".py",
   "mimetype": "text/x-python",
   "name": "python",
   "nbconvert_exporter": "python",
   "pygments_lexer": "ipython2",
   "version": "2.7.6"
  }
 },
 "nbformat": 4,
 "nbformat_minor": 5
}
