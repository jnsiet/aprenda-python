{
 "cells": [
  {
   "cell_type": "markdown",
   "source": [
    "# Estrutura de Repetição While\n",
    "\n",
    "Python tem dois comandos de loop primitivos:\n",
    "- `while`\n",
    "- `for`"
   ],
   "metadata": {
    "collapsed": false
   },
   "id": "19cba8be5ec54a7c"
  },
  {
   "cell_type": "markdown",
   "source": [
    "## Loop While\n",
    "\n",
    "Com o loop `while` podemos executar um conjunto de instruções, desde que uma condição seja verdadeira.\n",
    "\n",
    "É importante ter cuidado ao usar `while` para garantir que a condição eventualmente se torne falsa(uso de contadores ou atualizações nas variáveis dentro do bloco `while`), evitando assim loops infinitos."
   ],
   "metadata": {
    "collapsed": false
   },
   "id": "6b3a24c609cee6f9"
  },
  {
   "cell_type": "code",
   "execution_count": 7,
   "id": "initial_id",
   "metadata": {
    "collapsed": true,
    "ExecuteTime": {
     "end_time": "2024-01-02T13:11:44.767637300Z",
     "start_time": "2024-01-02T13:11:44.731411600Z"
    }
   },
   "outputs": [
    {
     "name": "stdout",
     "output_type": "stream",
     "text": [
      "1\n",
      "2\n",
      "3\n",
      "4\n",
      "5\n"
     ]
    }
   ],
   "source": [
    "i = 1\n",
    "while i < 6:\n",
    "    print(i)\n",
    "    i += 1"
   ]
  },
  {
   "cell_type": "markdown",
   "source": [
    "## Break\n",
    "\n",
    "Com a instrução `break` podemos parar o loop mesmo se a condição while ainda for verdadeira."
   ],
   "metadata": {
    "collapsed": false
   },
   "id": "85e699e3b93f7dfc"
  },
  {
   "cell_type": "code",
   "outputs": [
    {
     "name": "stdout",
     "output_type": "stream",
     "text": [
      "1\n",
      "2\n",
      "3\n"
     ]
    }
   ],
   "source": [
    "i = 1\n",
    "while i < 6:\n",
    "    print(i)\n",
    "    if i == 3:\n",
    "        break\n",
    "    i += 1"
   ],
   "metadata": {
    "collapsed": false,
    "ExecuteTime": {
     "end_time": "2024-01-02T13:11:44.834438200Z",
     "start_time": "2024-01-02T13:11:44.776787600Z"
    }
   },
   "id": "b3d2ac68590a54ff",
   "execution_count": 8
  },
  {
   "cell_type": "markdown",
   "source": [
    "## Continue\n",
    "\n",
    "Com a instrução `continue` podemos parar a iteração atual e continuar com a próxima."
   ],
   "metadata": {
    "collapsed": false
   },
   "id": "eefad1beb5580696"
  },
  {
   "cell_type": "code",
   "outputs": [
    {
     "name": "stdout",
     "output_type": "stream",
     "text": [
      "1\n",
      "2\n",
      "4\n",
      "5\n",
      "6\n"
     ]
    }
   ],
   "source": [
    "i = 0\n",
    "while i < 6:\n",
    "    i += 1\n",
    "    if i == 3:\n",
    "        continue\n",
    "    print(i)"
   ],
   "metadata": {
    "collapsed": false,
    "ExecuteTime": {
     "end_time": "2024-01-02T13:11:44.835441900Z",
     "start_time": "2024-01-02T13:11:44.801840100Z"
    }
   },
   "id": "2e54c6ebcf808f42",
   "execution_count": 9
  },
  {
   "cell_type": "markdown",
   "source": [
    "## Else\n",
    "\n",
    "Com a instrução `else` podemos executar um bloco de código uma vez quando a condição não for mais verdadeira."
   ],
   "metadata": {
    "collapsed": false
   },
   "id": "35e6766395f3eb09"
  },
  {
   "cell_type": "code",
   "outputs": [
    {
     "name": "stdout",
     "output_type": "stream",
     "text": [
      "1\n",
      "2\n",
      "3\n",
      "4\n",
      "5\n",
      "i is no longer less than 6\n"
     ]
    }
   ],
   "source": [
    "i = 1\n",
    "while i < 6:\n",
    "    print(i)\n",
    "    i += 1\n",
    "else:\n",
    "    print(\"i is no longer less than 6\")"
   ],
   "metadata": {
    "collapsed": false,
    "ExecuteTime": {
     "end_time": "2024-01-02T13:11:44.876435400Z",
     "start_time": "2024-01-02T13:11:44.817079400Z"
    }
   },
   "id": "16faa202ca47b5da",
   "execution_count": 10
  }
 ],
 "metadata": {
  "kernelspec": {
   "display_name": "Python 3",
   "language": "python",
   "name": "python3"
  },
  "language_info": {
   "codemirror_mode": {
    "name": "ipython",
    "version": 2
   },
   "file_extension": ".py",
   "mimetype": "text/x-python",
   "name": "python",
   "nbconvert_exporter": "python",
   "pygments_lexer": "ipython2",
   "version": "2.7.6"
  }
 },
 "nbformat": 4,
 "nbformat_minor": 5
}
