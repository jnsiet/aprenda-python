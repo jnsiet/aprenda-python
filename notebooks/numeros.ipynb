{
 "cells": [
  {
   "cell_type": "markdown",
   "source": [
    "# Números\n",
    "\n",
    "Existem três tipos numéricos em Python:\n",
    "\n",
    "- `int`\n",
    "- `float`\n",
    "- `complex`\n",
    "\n",
    "**NOTA:** Em Python, o limite para números inteiros é, na prática, ilimitado, dependendo apenas da quantidade de memória disponível no sistema. "
   ],
   "metadata": {
    "collapsed": false
   },
   "id": "85866eb908871743"
  },
  {
   "cell_type": "markdown",
   "source": [
    "## Int\n",
    "\n",
    "Int, ou inteiro, é um número inteiro, positivo ou negativo, sem decimais, de comprimento ilimitado.\n"
   ],
   "metadata": {
    "collapsed": false
   },
   "id": "a4a4cfb2cb5d4c42"
  },
  {
   "cell_type": "code",
   "outputs": [],
   "source": [
    "x = 1\n",
    "y = 35656222554887711\n",
    "z = -3255522"
   ],
   "metadata": {
    "collapsed": false,
    "ExecuteTime": {
     "end_time": "2024-01-01T19:48:56.816786400Z",
     "start_time": "2024-01-01T19:48:56.795376600Z"
    }
   },
   "id": "dac6e30d41cf1342",
   "execution_count": 53
  },
  {
   "cell_type": "markdown",
   "source": [
    "## Float\n",
    "\n",
    "Float, ou \"número de ponto flutuante\" é um número, positivo ou negativo, contendo uma ou mais casas decimais."
   ],
   "metadata": {
    "collapsed": false
   },
   "id": "ff7f20e96f51693e"
  },
  {
   "cell_type": "code",
   "outputs": [],
   "source": [
    "x = 1.10\n",
    "y = 1.0\n",
    "z = -35.59"
   ],
   "metadata": {
    "collapsed": false,
    "ExecuteTime": {
     "end_time": "2024-01-01T19:48:56.851783600Z",
     "start_time": "2024-01-01T19:48:56.819783800Z"
    }
   },
   "id": "89e8f4e4bd72c388",
   "execution_count": 54
  },
  {
   "cell_type": "markdown",
   "source": [
    "Float também podem ser números científicos com um `e` para indicar a potência de 10."
   ],
   "metadata": {
    "collapsed": false
   },
   "id": "88dad6daa72ebfe9"
  },
  {
   "cell_type": "code",
   "outputs": [
    {
     "name": "stdout",
     "output_type": "stream",
     "text": [
      "35000.0\n",
      "120000.0\n",
      "-8770000.0\n"
     ]
    }
   ],
   "source": [
    "x = 35e3\n",
    "y = 12E4\n",
    "z = -87.7e5\n",
    "\n",
    "print(x)\n",
    "print(y)\n",
    "print(z)"
   ],
   "metadata": {
    "collapsed": false,
    "ExecuteTime": {
     "end_time": "2024-01-01T19:48:56.872927200Z",
     "start_time": "2024-01-01T19:48:56.845786500Z"
    }
   },
   "id": "7b7d0f025987fe42",
   "execution_count": 55
  },
  {
   "cell_type": "markdown",
   "source": [
    "## Complex\n",
    "\n",
    "Os números complexos são escritos com um `j` como parte imaginária."
   ],
   "metadata": {
    "collapsed": false
   },
   "id": "46877c8a361a4cf2"
  },
  {
   "cell_type": "code",
   "outputs": [
    {
     "name": "stdout",
     "output_type": "stream",
     "text": [
      "(3+5j)\n",
      "5j\n",
      "(-0-5j)\n"
     ]
    }
   ],
   "source": [
    "x = 3+5j\n",
    "y = 5j\n",
    "z = -5j\n",
    "\n",
    "print(x)\n",
    "print(y)\n",
    "print(z)"
   ],
   "metadata": {
    "collapsed": false,
    "ExecuteTime": {
     "end_time": "2024-01-01T19:48:56.909293900Z",
     "start_time": "2024-01-01T19:48:56.862304500Z"
    }
   },
   "id": "ef8a8f4d523b9511",
   "execution_count": 56
  },
  {
   "cell_type": "markdown",
   "source": [
    "## Casting com Tipos Númericos\n",
    "\n",
    "Você pode converter de um tipo para outro com os métodos `int()`, `float()` e `complex()`.\n",
    "\n",
    "A conversão em Python é feita usando funções construtoras:\n",
    "\n",
    "- `int()`: constrói um número inteiro a partir de um literal inteiro, um literal flutuante (removendo todos os decimais) ou um literal de string (desde que a string represente um número inteiro)\n",
    "- `float()`: constrói um número float a partir de um literal inteiro, um literal float ou um literal de string (desde que a string represente um float ou um inteiro)\n",
    "- `str()`: constrói uma string a partir de uma ampla variedade de tipos de dados, incluindo strings, literais inteiros e literais flutuantes\n",
    "\n",
    "\n"
   ],
   "metadata": {
    "collapsed": false
   },
   "id": "40e0c55650ce28a6"
  },
  {
   "cell_type": "code",
   "outputs": [
    {
     "name": "stdout",
     "output_type": "stream",
     "text": [
      "1.0\n",
      "2\n",
      "(2.8+0j)\n"
     ]
    }
   ],
   "source": [
    "x = 1    # int\n",
    "y = 2.8  # float\n",
    "z = 1j   # complex\n",
    "\n",
    "#convert from int to float:\n",
    "a = float(x)\n",
    "\n",
    "#convert from float to int:\n",
    "b = int(y)\n",
    "\n",
    "#convert from int to complex:\n",
    "c = complex(y)\n",
    "\n",
    "print(a)\n",
    "print(b)\n",
    "print(c)"
   ],
   "metadata": {
    "collapsed": false,
    "ExecuteTime": {
     "end_time": "2024-01-01T19:48:56.950295200Z",
     "start_time": "2024-01-01T19:48:56.879941300Z"
    }
   },
   "id": "1b221cba7bf1eee7",
   "execution_count": 57
  },
  {
   "cell_type": "markdown",
   "source": [
    "**NOTA:** Ao converter um tipo `float` para o tipo `int`, a parte flutuante(decimal) é truncada, ou seja, removida.\n",
    "\n",
    "**NOTA:** Você não pode converter números complexos em outro tipo de número."
   ],
   "metadata": {
    "collapsed": false
   },
   "id": "2388507324ff499"
  }
 ],
 "metadata": {
  "kernelspec": {
   "display_name": "Python 3",
   "language": "python",
   "name": "python3"
  },
  "language_info": {
   "codemirror_mode": {
    "name": "ipython",
    "version": 2
   },
   "file_extension": ".py",
   "mimetype": "text/x-python",
   "name": "python",
   "nbconvert_exporter": "python",
   "pygments_lexer": "ipython2",
   "version": "2.7.6"
  }
 },
 "nbformat": 4,
 "nbformat_minor": 5
}
