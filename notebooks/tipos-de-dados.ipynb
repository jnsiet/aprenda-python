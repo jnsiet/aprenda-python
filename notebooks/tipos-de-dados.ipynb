{
 "cells": [
  {
   "cell_type": "markdown",
   "source": [
    "# Tipos de Dados\n",
    "\n",
    "Variáveis podem armazenar dados de diferentes tipos, e diferentes tipos podem fazer coisas diferentes.\n",
    "\n",
    "Python tem os seguintes tipos de dados integrados por padrão:\n",
    "\n",
    "Tipo de texto: `str`\n",
    "\n",
    "Tipos numéricos: `int`, `float` e `complex`\n",
    "\n",
    "Tipos de sequência: `list`, `tuple` e `range`\n",
    "\n",
    "Tipo de mapeamento: `dict`\n",
    "\n",
    "Tipos de conjunto: `set` e `frozenset`\n",
    "\n",
    "Tipo booleano: `bool`\n",
    "\n",
    "Tipos binários: `bytes`, `bytearray` e `memoryview`\n",
    "\n",
    "Nenhum tipo: `NoneType`"
   ],
   "metadata": {
    "collapsed": false
   },
   "id": "58846fb3649f5c24"
  },
  {
   "cell_type": "markdown",
   "source": [
    "Em Python, o tipo de dados é definido quando você atribui um valor a uma variável:"
   ],
   "metadata": {
    "collapsed": false
   },
   "id": "9d00f08361f41f65"
  },
  {
   "cell_type": "code",
   "execution_count": 9,
   "id": "initial_id",
   "metadata": {
    "collapsed": true,
    "ExecuteTime": {
     "end_time": "2024-01-01T18:29:05.106463700Z",
     "start_time": "2024-01-01T18:29:05.091596200Z"
    }
   },
   "outputs": [
    {
     "name": "stdout",
     "output_type": "stream",
     "text": [
      "Hello World\n",
      "<class 'str'>\n",
      "20\n",
      "<class 'int'>\n",
      "20.5\n",
      "<class 'float'>\n",
      "1j\n",
      "<class 'complex'>\n",
      "['apple', 'banana', 'cherry']\n",
      "<class 'list'>\n",
      "('apple', 'banana', 'cherry')\n",
      "<class 'tuple'>\n",
      "range(0, 6)\n",
      "<class 'range'>\n",
      "{'name': 'John', 'age': 36}\n",
      "<class 'dict'>\n",
      "{'apple', 'cherry', 'banana'}\n",
      "<class 'set'>\n",
      "frozenset({'apple', 'cherry', 'banana'})\n",
      "<class 'frozenset'>\n",
      "True\n",
      "<class 'bool'>\n",
      "b'Hello'\n",
      "<class 'bytes'>\n",
      "bytearray(b'\\x00\\x00\\x00\\x00\\x00')\n",
      "<class 'bytearray'>\n",
      "<memory at 0x000002180D4FA400>\n",
      "<class 'memoryview'>\n",
      "None\n",
      "<class 'NoneType'>\n"
     ]
    }
   ],
   "source": [
    "x = \"Hello World\"\n",
    "print(x)\n",
    "print(type(x))\n",
    "\n",
    "x = 20\n",
    "print(x)\n",
    "print(type(x))\n",
    "\n",
    "x = 20.5\n",
    "print(x)\n",
    "print(type(x))\n",
    "\n",
    "x = 1j\n",
    "print(x)\n",
    "print(type(x))\n",
    "\n",
    "x = [\"apple\", \"banana\", \"cherry\"]\n",
    "print(x)\n",
    "print(type(x))\n",
    "\n",
    "x = (\"apple\", \"banana\", \"cherry\")\n",
    "print(x)\n",
    "print(type(x))\n",
    "\n",
    "x = range(6)\n",
    "print(x)\n",
    "print(type(x))\n",
    "\n",
    "x = {\"name\" : \"John\", \"age\" : 36}\n",
    "print(x)\n",
    "print(type(x))\n",
    "\n",
    "x = {\"apple\", \"banana\", \"cherry\"}\n",
    "print(x)\n",
    "print(type(x))\n",
    "\n",
    "x = frozenset({\"apple\", \"banana\", \"cherry\"})\n",
    "print(x)\n",
    "print(type(x))\n",
    "\n",
    "x = True\n",
    "print(x)\n",
    "print(type(x))\n",
    "\n",
    "x = b\"Hello\"\n",
    "print(x)\n",
    "print(type(x))\n",
    "\n",
    "x = bytearray(5)\n",
    "print(x)\n",
    "print(type(x))\n",
    "\n",
    "x = memoryview(bytes(5))\n",
    "print(x)\n",
    "print(type(x))\n",
    "\n",
    "x = None\n",
    "print(x)\n",
    "print(type(x))"
   ]
  }
 ],
 "metadata": {
  "kernelspec": {
   "display_name": "Python 3",
   "language": "python",
   "name": "python3"
  },
  "language_info": {
   "codemirror_mode": {
    "name": "ipython",
    "version": 2
   },
   "file_extension": ".py",
   "mimetype": "text/x-python",
   "name": "python",
   "nbconvert_exporter": "python",
   "pygments_lexer": "ipython2",
   "version": "2.7.6"
  }
 },
 "nbformat": 4,
 "nbformat_minor": 5
}
