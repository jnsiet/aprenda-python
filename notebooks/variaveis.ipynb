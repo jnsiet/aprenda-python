{
 "cells": [
  {
   "cell_type": "markdown",
   "source": [
    "# Variáveis\n",
    "\n",
    "Variáveis são contêineres para armazenar valores de dados."
   ],
   "metadata": {
    "collapsed": false
   },
   "id": "814c6aa15a5d4c4d"
  },
  {
   "cell_type": "markdown",
   "source": [
    "## Criando Variáveis\n",
    "\n",
    "Python não possui comando para declarar uma variável.\n",
    "\n",
    "Uma variável é criada no momento em que você atribui um valor a ela pela primeira vez.\n",
    "\n",
    "As variáveis não precisam ser declaradas com nenhum tipo específico e podem até mudar de tipo (tipagem dinâmica) durante a execução do programa."
   ],
   "metadata": {
    "collapsed": false
   },
   "id": "772195dafc83ce8c"
  },
  {
   "cell_type": "code",
   "execution_count": 32,
   "id": "initial_id",
   "metadata": {
    "collapsed": true,
    "ExecuteTime": {
     "end_time": "2024-01-01T18:03:08.186927500Z",
     "start_time": "2024-01-01T18:03:08.108927600Z"
    }
   },
   "outputs": [
    {
     "name": "stdout",
     "output_type": "stream",
     "text": [
      "Sally\n"
     ]
    }
   ],
   "source": [
    "x = 4       # x is of type int\n",
    "x = \"Sally\" # x is now of type str\n",
    "print(x)"
   ]
  },
  {
   "cell_type": "markdown",
   "source": [
    "## Casting\n",
    "\n",
    "Casting refere-se a converter uma variável de um tipo para outro."
   ],
   "metadata": {
    "collapsed": false
   },
   "id": "ceaa3c5ac7278721"
  },
  {
   "cell_type": "code",
   "outputs": [
    {
     "name": "stdout",
     "output_type": "stream",
     "text": [
      "<class 'int'>\n",
      "<class 'str'>\n"
     ]
    }
   ],
   "source": [
    "x = 3\n",
    "print(type(x))\n",
    "\n",
    "x = str(3)    # x will be '3'\n",
    "print(type(x))"
   ],
   "metadata": {
    "collapsed": false,
    "ExecuteTime": {
     "end_time": "2024-01-01T18:03:08.203926200Z",
     "start_time": "2024-01-01T18:03:08.182928500Z"
    }
   },
   "id": "884dd11ab9203989",
   "execution_count": 33
  },
  {
   "cell_type": "markdown",
   "source": [
    "Você pode obter o tipo de dados de uma variável com a função `type()`.\n",
    "\n",
    "Python é **case-sensitive** (diferencia entre letras maiúsculas e minúsculas)."
   ],
   "metadata": {
    "collapsed": false
   },
   "id": "d3d1f431b1a65723"
  },
  {
   "cell_type": "markdown",
   "source": [
    "## Regras para Nomear Variáveis\n",
    "\n",
    "Regras para variáveis Python:\n",
    "\n",
    "- O nome de uma variável deve começar com uma letra ou sublinhado\n",
    "- Um nome de variável não pode começar com um número\n",
    "- Um nome de variável só pode conter caracteres alfanuméricos e sublinhados (A-z, 0-9 e _)\n",
    "- Os nomes das variáveis diferenciam maiúsculas de minúsculas (idade, Idade e IDADE são três variáveis diferentes)\n",
    "- O nome de uma variável não pode ser nenhuma das palavras-chave do Python"
   ],
   "metadata": {
    "collapsed": false
   },
   "id": "3d1f78100b507e30"
  },
  {
   "cell_type": "markdown",
   "source": [
    "## Nomes de Variáveis e Funções com Múltiplas Palavras\n",
    "\n",
    "De acordo com a [PEP 8](https://peps.python.org/pep-0008/#function-and-variable-names), snake case (cada palavra é separada por um caractere underline) é o estilo de nomenclatura recomendado para nomear funcões e variáveis no Python."
   ],
   "metadata": {
    "collapsed": false
   },
   "id": "f7d5c11ce7c5dbc3"
  },
  {
   "cell_type": "code",
   "outputs": [],
   "source": [
    "my_variable_name = \"John\""
   ],
   "metadata": {
    "collapsed": false,
    "ExecuteTime": {
     "end_time": "2024-01-01T18:03:08.296724700Z",
     "start_time": "2024-01-01T18:03:08.212214400Z"
    }
   },
   "id": "2881385128c76d1c",
   "execution_count": 34
  },
  {
   "cell_type": "markdown",
   "source": [
    "## Atribuindo Valores\n",
    "\n",
    "### Muitos Valores para Múltiplas Variáveis"
   ],
   "metadata": {
    "collapsed": false
   },
   "id": "d82e688b9e8b9b5d"
  },
  {
   "cell_type": "code",
   "outputs": [
    {
     "name": "stdout",
     "output_type": "stream",
     "text": [
      "Orange\n",
      "Banana\n",
      "Cherry\n"
     ]
    }
   ],
   "source": [
    "x, y, z = \"Orange\", \"Banana\", \"Cherry\"\n",
    "print(x)\n",
    "print(y)\n",
    "print(z)"
   ],
   "metadata": {
    "collapsed": false,
    "ExecuteTime": {
     "end_time": "2024-01-01T18:03:08.327773600Z",
     "start_time": "2024-01-01T18:03:08.236359700Z"
    }
   },
   "id": "9eccf4c120826c24",
   "execution_count": 35
  },
  {
   "cell_type": "markdown",
   "source": [
    "### Um Valor para Múltiplas Variáveis"
   ],
   "metadata": {
    "collapsed": false
   },
   "id": "853354f3fbd7734"
  },
  {
   "cell_type": "code",
   "outputs": [
    {
     "name": "stdout",
     "output_type": "stream",
     "text": [
      "Orange\n",
      "Orange\n",
      "Orange\n"
     ]
    }
   ],
   "source": [
    "x = y = z = \"Orange\"\n",
    "print(x)\n",
    "print(y)\n",
    "print(z)"
   ],
   "metadata": {
    "collapsed": false,
    "ExecuteTime": {
     "end_time": "2024-01-01T18:03:08.345772600Z",
     "start_time": "2024-01-01T18:03:08.289722700Z"
    }
   },
   "id": "d3962cd197b33b70",
   "execution_count": 36
  },
  {
   "cell_type": "markdown",
   "source": [
    "## Desempacotando uma Coleção\n",
    "\n",
    "Se você tiver uma coleção de valores em uma lista, tupla etc, o Python permite extrair (desempacotar) os valores em variáveis."
   ],
   "metadata": {
    "collapsed": false
   },
   "id": "7b1fc9ad4e77af7f"
  },
  {
   "cell_type": "code",
   "outputs": [
    {
     "name": "stdout",
     "output_type": "stream",
     "text": [
      "apple\n",
      "banana\n",
      "cherry\n"
     ]
    }
   ],
   "source": [
    "fruits = [\"apple\", \"banana\", \"cherry\"]\n",
    "x, y, z = fruits\n",
    "print(x)\n",
    "print(y)\n",
    "print(z)"
   ],
   "metadata": {
    "collapsed": false,
    "ExecuteTime": {
     "end_time": "2024-01-01T18:03:08.426426300Z",
     "start_time": "2024-01-01T18:03:08.340772200Z"
    }
   },
   "id": "9107a8b58ef054a4",
   "execution_count": 37
  },
  {
   "cell_type": "code",
   "outputs": [
    {
     "name": "stdout",
     "output_type": "stream",
     "text": [
      "0\n",
      "[1, 2, 3, 4, 5, 6, 7, 8, 9]\n"
     ]
    }
   ],
   "source": [
    "numbers = [0, 1, 2, 3, 4, 5, 6, 7, 8, 9]\n",
    "x, *y = numbers\n",
    "print(x)\n",
    "print(y)"
   ],
   "metadata": {
    "collapsed": false,
    "ExecuteTime": {
     "end_time": "2024-01-01T18:03:08.447417900Z",
     "start_time": "2024-01-01T18:03:08.365276700Z"
    }
   },
   "id": "e637ed175fc8aa29",
   "execution_count": 38
  },
  {
   "cell_type": "markdown",
   "source": [
    "## Função print()\n",
    "\n",
    "A função `print()` é comumente usada para exibir valores no console."
   ],
   "metadata": {
    "collapsed": false
   },
   "id": "46017a1eb96fe4d3"
  },
  {
   "cell_type": "code",
   "outputs": [
    {
     "name": "stdout",
     "output_type": "stream",
     "text": [
      "Python is awesome\n"
     ]
    }
   ],
   "source": [
    "x = \"Python\"\n",
    "y = \"is\"\n",
    "z = \"awesome\"\n",
    "print(x, y, z)"
   ],
   "metadata": {
    "collapsed": false,
    "ExecuteTime": {
     "end_time": "2024-01-01T18:03:08.523504900Z",
     "start_time": "2024-01-01T18:03:08.442416300Z"
    }
   },
   "id": "d686fdb71c106305",
   "execution_count": 39
  },
  {
   "cell_type": "markdown",
   "source": [
    "## Variáveis Globais\n",
    "\n",
    "Variáveis criadas fora de uma função são conhecidas como **variáveis globais**. Variáveis globais são acessíveis em todo o escopo do nosso código."
   ],
   "metadata": {
    "collapsed": false
   },
   "id": "18bb9d2d23e576d9"
  },
  {
   "cell_type": "code",
   "outputs": [
    {
     "name": "stdout",
     "output_type": "stream",
     "text": [
      "Python is awesome\n"
     ]
    }
   ],
   "source": [
    "x = \"awesome\"\n",
    "\n",
    "def myfunc():\n",
    "    print(\"Python is \" + x)\n",
    "\n",
    "myfunc()"
   ],
   "metadata": {
    "collapsed": false,
    "ExecuteTime": {
     "end_time": "2024-01-01T18:03:08.596874900Z",
     "start_time": "2024-01-01T18:03:08.519380100Z"
    }
   },
   "id": "6fa1be15bfc712fa",
   "execution_count": 40
  },
  {
   "cell_type": "markdown",
   "source": [
    "Se você criar uma variável com o mesmo nome dentro de uma função, esta variável será **local** e só poderá ser usada dentro da função. A variável global com o mesmo nome permanecerá como estava, global e com o valor original."
   ],
   "metadata": {
    "collapsed": false
   },
   "id": "d58c2169a36c36ab"
  },
  {
   "cell_type": "code",
   "outputs": [
    {
     "name": "stdout",
     "output_type": "stream",
     "text": [
      "Python is fantastic\n",
      "Python is awesome\n"
     ]
    }
   ],
   "source": [
    "x = \"awesome\"\n",
    "\n",
    "def myfunc():\n",
    "    x = \"fantastic\"\n",
    "    print(\"Python is \" + x)\n",
    "\n",
    "myfunc()\n",
    "\n",
    "print(\"Python is \" + x)"
   ],
   "metadata": {
    "collapsed": false,
    "ExecuteTime": {
     "end_time": "2024-01-01T18:03:08.599899300Z",
     "start_time": "2024-01-01T18:03:08.542460400Z"
    }
   },
   "id": "b9994300e1abe6b6",
   "execution_count": 41
  },
  {
   "cell_type": "markdown",
   "source": [
    "### A palavra-chave global\n",
    "\n",
    "Para criar uma variável global dentro de uma função, você pode usar a palavra-chave `global`. Com isso a variável passa a pertencer ao escopo global."
   ],
   "metadata": {
    "collapsed": false
   },
   "id": "511d3083f26363f4"
  },
  {
   "cell_type": "code",
   "outputs": [
    {
     "name": "stdout",
     "output_type": "stream",
     "text": [
      "Python is fantastic\n"
     ]
    }
   ],
   "source": [
    "def myfunc():\n",
    "    global x\n",
    "    x = \"fantastic\"\n",
    "\n",
    "myfunc()\n",
    "\n",
    "print(\"Python is \" + x)"
   ],
   "metadata": {
    "collapsed": false,
    "ExecuteTime": {
     "end_time": "2024-01-01T18:05:45.867520500Z",
     "start_time": "2024-01-01T18:05:45.845054Z"
    }
   },
   "id": "d0a60804ca930ade",
   "execution_count": 43
  },
  {
   "cell_type": "markdown",
   "source": [
    "Além disso, use a palavra-chave global se quiser alterar uma variável global dentro de uma função."
   ],
   "metadata": {
    "collapsed": false
   },
   "id": "af41384a0a881517"
  },
  {
   "cell_type": "code",
   "outputs": [
    {
     "name": "stdout",
     "output_type": "stream",
     "text": [
      "Python is awesome\n",
      "Python is fantastic\n"
     ]
    }
   ],
   "source": [
    "x = \"awesome\"\n",
    "\n",
    "print(\"Python is \" + x)\n",
    "\n",
    "def myfunc():\n",
    "    global x\n",
    "    x = \"fantastic\"\n",
    "\n",
    "myfunc()\n",
    "\n",
    "print(\"Python is \" + x)"
   ],
   "metadata": {
    "collapsed": false,
    "ExecuteTime": {
     "end_time": "2024-01-01T18:06:48.585397800Z",
     "start_time": "2024-01-01T18:06:48.559993500Z"
    }
   },
   "id": "fca90106e2e284c3",
   "execution_count": 45
  }
 ],
 "metadata": {
  "kernelspec": {
   "display_name": "Python 3",
   "language": "python",
   "name": "python3"
  },
  "language_info": {
   "codemirror_mode": {
    "name": "ipython",
    "version": 2
   },
   "file_extension": ".py",
   "mimetype": "text/x-python",
   "name": "python",
   "nbconvert_exporter": "python",
   "pygments_lexer": "ipython2",
   "version": "2.7.6"
  }
 },
 "nbformat": 4,
 "nbformat_minor": 5
}
