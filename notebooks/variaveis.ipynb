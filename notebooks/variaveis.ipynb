{
 "cells": [
  {
   "cell_type": "markdown",
   "source": [
    "# Variáveis\n",
    "\n",
    "Variáveis são contêineres para armazenar valores de dados."
   ],
   "metadata": {
    "collapsed": false
   },
   "id": "814c6aa15a5d4c4d"
  },
  {
   "cell_type": "markdown",
   "source": [
    "## Criando Variáveis\n",
    "\n",
    "Python não possui comando para declarar uma variável.\n",
    "\n",
    "Uma variável é criada no momento em que você atribui um valor a ela pela primeira vez.\n",
    "\n",
    "As variáveis não precisam ser declaradas com nenhum tipo específico e podem até mudar de tipo (tipagem dinâmica) durante a execução do programa."
   ],
   "metadata": {
    "collapsed": false
   },
   "id": "772195dafc83ce8c"
  },
  {
   "cell_type": "code",
   "execution_count": 1,
   "id": "initial_id",
   "metadata": {
    "collapsed": true,
    "ExecuteTime": {
     "end_time": "2024-01-01T17:00:01.990303700Z",
     "start_time": "2024-01-01T17:00:01.932509400Z"
    }
   },
   "outputs": [
    {
     "name": "stdout",
     "output_type": "stream",
     "text": [
      "Sally\n"
     ]
    }
   ],
   "source": [
    "x = 4       # x is of type int\n",
    "x = \"Sally\" # x is now of type str\n",
    "print(x)"
   ]
  },
  {
   "cell_type": "markdown",
   "source": [
    "## Casting\n",
    "\n",
    "Casting refere-se a converter uma variável de um tipo para outro."
   ],
   "metadata": {
    "collapsed": false
   },
   "id": "ceaa3c5ac7278721"
  },
  {
   "cell_type": "code",
   "outputs": [
    {
     "name": "stdout",
     "output_type": "stream",
     "text": [
      "<class 'int'>\n",
      "<class 'str'>\n"
     ]
    }
   ],
   "source": [
    "x = 3\n",
    "print(type(x))\n",
    "\n",
    "x = str(3)    # x will be '3'\n",
    "print(type(x))"
   ],
   "metadata": {
    "collapsed": false,
    "ExecuteTime": {
     "end_time": "2024-01-01T17:00:02.035669500Z",
     "start_time": "2024-01-01T17:00:01.965668100Z"
    }
   },
   "id": "884dd11ab9203989",
   "execution_count": 2
  },
  {
   "cell_type": "markdown",
   "source": [
    "Você pode obter o tipo de dados de uma variável com a função `type()`.\n",
    "\n",
    "Python é **case-sensitive** (diferencia entre letras maiúsculas e minúsculas)."
   ],
   "metadata": {
    "collapsed": false
   },
   "id": "d3d1f431b1a65723"
  }
 ],
 "metadata": {
  "kernelspec": {
   "display_name": "Python 3",
   "language": "python",
   "name": "python3"
  },
  "language_info": {
   "codemirror_mode": {
    "name": "ipython",
    "version": 2
   },
   "file_extension": ".py",
   "mimetype": "text/x-python",
   "name": "python",
   "nbconvert_exporter": "python",
   "pygments_lexer": "ipython2",
   "version": "2.7.6"
  }
 },
 "nbformat": 4,
 "nbformat_minor": 5
}
