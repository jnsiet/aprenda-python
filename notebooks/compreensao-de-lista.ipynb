{
 "cells": [
  {
   "cell_type": "markdown",
   "source": [
    "# Compreensão de Lista\n",
    "\n",
    "A compreensão de lista oferece uma sintaxe mais curta quando você deseja criar uma nova lista com base nos valores de uma lista existente.\n",
    "\n",
    "Sua sintaxe é: `newlist = [expression for item in iterable if condition == True]`\n",
    "\n",
    "O valor de retorno é uma nova lista, deixando a lista antiga inalterada.\n",
    "\n",
    "![](https://www.freecodecamp.org/news/content/images/2021/07/list-comprehension.png)"
   ],
   "metadata": {
    "collapsed": false
   },
   "id": "c8695ff8c11027c4"
  },
  {
   "cell_type": "code",
   "execution_count": 20,
   "id": "initial_id",
   "metadata": {
    "collapsed": true,
    "ExecuteTime": {
     "end_time": "2024-01-05T18:39:59.407408100Z",
     "start_time": "2024-01-05T18:39:59.240521800Z"
    }
   },
   "outputs": [
    {
     "name": "stdout",
     "output_type": "stream",
     "text": [
      "['apple', 'banana', 'mango']\n"
     ]
    }
   ],
   "source": [
    "fruits = [\"apple\", \"banana\", \"cherry\", \"kiwi\", \"mango\"]\n",
    "\n",
    "newlist = [x for x in fruits if \"a\" in x]\n",
    "\n",
    "print(newlist)"
   ]
  },
  {
   "cell_type": "code",
   "outputs": [
    {
     "name": "stdout",
     "output_type": "stream",
     "text": [
      "[0, 15, 30, 45, 60, 75, 90]\n"
     ]
    }
   ],
   "source": [
    "number_list = [x for x in range(100) if x % 3 == 0 if x % 5 == 0]\n",
    "print(number_list)"
   ],
   "metadata": {
    "collapsed": false,
    "ExecuteTime": {
     "end_time": "2024-01-05T18:39:59.485095900Z",
     "start_time": "2024-01-05T18:39:59.419404500Z"
    }
   },
   "id": "e530905ad1b90a4d",
   "execution_count": 21
  },
  {
   "cell_type": "markdown",
   "source": [
    "A expressão é o item atual na iteração, mas também é o resultado, que você pode manipular antes que acabe como um item de lista na nova lista."
   ],
   "metadata": {
    "collapsed": false
   },
   "id": "bedd22a00d9b408"
  },
  {
   "cell_type": "code",
   "outputs": [
    {
     "name": "stdout",
     "output_type": "stream",
     "text": [
      "['APPLE', 'BANANA', 'CHERRY', 'KIWI', 'MANGO']\n"
     ]
    }
   ],
   "source": [
    "newlist = [x.upper() for x in fruits]\n",
    "print(newlist)"
   ],
   "metadata": {
    "collapsed": false,
    "ExecuteTime": {
     "end_time": "2024-01-05T18:39:59.540212500Z",
     "start_time": "2024-01-05T18:39:59.473693700Z"
    }
   },
   "id": "acdfbf5294e83195",
   "execution_count": 22
  },
  {
   "cell_type": "markdown",
   "source": [
    "A expressão também pode conter condições, não como um filtro, mas como uma forma de manipular o resultado."
   ],
   "metadata": {
    "collapsed": false
   },
   "id": "dbc1991f940dd0ef"
  },
  {
   "cell_type": "code",
   "outputs": [
    {
     "name": "stdout",
     "output_type": "stream",
     "text": [
      "['apple', 'orange', 'cherry', 'kiwi', 'mango']\n"
     ]
    }
   ],
   "source": [
    "newlist = [x if x != \"banana\" else \"orange\" for x in fruits]\n",
    "print(newlist)"
   ],
   "metadata": {
    "collapsed": false,
    "ExecuteTime": {
     "end_time": "2024-01-05T18:39:59.623298900Z",
     "start_time": "2024-01-05T18:39:59.552004200Z"
    }
   },
   "id": "7a5dae49d251d35d",
   "execution_count": 23
  }
 ],
 "metadata": {
  "kernelspec": {
   "display_name": "Python 3",
   "language": "python",
   "name": "python3"
  },
  "language_info": {
   "codemirror_mode": {
    "name": "ipython",
    "version": 2
   },
   "file_extension": ".py",
   "mimetype": "text/x-python",
   "name": "python",
   "nbconvert_exporter": "python",
   "pygments_lexer": "ipython2",
   "version": "2.7.6"
  }
 },
 "nbformat": 4,
 "nbformat_minor": 5
}
